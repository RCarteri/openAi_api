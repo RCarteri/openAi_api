{
<<<<<<< HEAD
 "cells": [
  {
   "cell_type": "code",
   "execution_count": null,
   "metadata": {},
   "outputs": [],
   "source": []
  }
 ],
 "metadata": {
  "kernelspec": {
   "display_name": "Python 3",
   "language": "python",
   "name": "python3"
=======
  "cells": [
    {
      "cell_type": "markdown",
      "metadata": {
        "colab_type": "text",
        "id": "view-in-github"
      },
      "source": [
        "<a href=\"https://colab.research.google.com/github/RCarteri/openAi_api/blob/main/Blog_Generator.ipynb\" target=\"_parent\"><img src=\"https://colab.research.google.com/assets/colab-badge.svg\" alt=\"Open In Colab\"/></a>"
      ]
    },
    {
      "cell_type": "markdown",
      "metadata": {
        "id": "vUehOJlORE-j"
      },
      "source": [
        "# Project 1: Blog Generator with OpenAI API\n",
        "\n",
        "Welcome to the first project of our course! In this section, we'll embark on an exciting journey to build a Blog Generator using the powerful OpenAI API. Our goal is to create an intelligent system capable of generating engaging and coherent blog content with just a prompt from the user. This project will not only introduce you to the world of AI-driven content creation but also demonstrate the practical application of the OpenAI API within a real-world scenario.\n",
        "\n",
        "## What You Will Learn\n",
        "\n",
        "- **OpenAI API Overview**: Gain a solid understanding of the OpenAI API and its capabilities for natural language processing and generation.\n",
        "- **Setting Up Google Colab**: Familiarize yourself with Google Colab, an ideal platform for running Python code and integrating APIs in a cloud-based environment.\n",
        "- **Prompt Engineering**: Develop skills in crafting prompts that guide the AI to produce the desired output, a critical aspect of leveraging generative language models.\n",
        "- **Content Generation**: Understand how to generate text that is coherent, contextually relevant, and stylistically appropriate for blog posts.\n",
        "\n",
        "## Project Objectives\n",
        "\n",
        "By the end of this project, you will have created a Blog Generator that can:\n",
        "\n",
        "1. **Take User Input**: Accept user-defined prompts or topics to generate content about.\n",
        "2. **Generate Blog Posts**: Produce complete blog posts that are ready for publication, including titles, headers, and paragraphs.\n",
        "3. **Display Results**: Present the generated blog posts in a clear and organized format within Google Colab.\n",
        "\n",
        "## Before We Start\n",
        "\n",
        "Make sure you have:\n",
        "- A Google Colab account set up.\n",
        "- Basic knowledge of Python programming.\n",
        "- An OpenAI API key (you can obtain one from [OpenAI](https://platform.openai.com/account/api-keys)).\n",
        "\n",
        "## Let's Build!\n",
        "\n",
        "Are you ready to dive into the world of AI and transform the way blog content is created? Let's get started on building your very own Blog Generator using the OpenAI API!\n",
        "\n"
      ]
    },
    {
      "cell_type": "markdown",
      "metadata": {
        "id": "NDlbXftjSHdL"
      },
      "source": [
        "# 2. Libraries import"
      ]
    },
    {
      "cell_type": "code",
      "execution_count": 4,
      "metadata": {
        "colab": {
          "base_uri": "https://localhost:8080/"
        },
        "id": "KTBw517ySLF2",
        "outputId": "d3485828-958e-4e06-eee3-26c352f9169d"
      },
      "outputs": [
        {
          "name": "stdout",
          "output_type": "stream",
          "text": [
            "Requirement already satisfied: openai in c:\\users\\ricar\\appdata\\local\\packages\\pythonsoftwarefoundation.python.3.11_qbz5n2kfra8p0\\localcache\\local-packages\\python311\\site-packages (1.35.5)\n",
            "Requirement already satisfied: anyio<5,>=3.5.0 in c:\\users\\ricar\\appdata\\local\\packages\\pythonsoftwarefoundation.python.3.11_qbz5n2kfra8p0\\localcache\\local-packages\\python311\\site-packages (from openai) (4.4.0)\n",
            "Requirement already satisfied: distro<2,>=1.7.0 in c:\\users\\ricar\\appdata\\local\\packages\\pythonsoftwarefoundation.python.3.11_qbz5n2kfra8p0\\localcache\\local-packages\\python311\\site-packages (from openai) (1.9.0)\n",
            "Requirement already satisfied: httpx<1,>=0.23.0 in c:\\users\\ricar\\appdata\\local\\packages\\pythonsoftwarefoundation.python.3.11_qbz5n2kfra8p0\\localcache\\local-packages\\python311\\site-packages (from openai) (0.27.0)\n",
            "Requirement already satisfied: pydantic<3,>=1.9.0 in c:\\users\\ricar\\appdata\\local\\packages\\pythonsoftwarefoundation.python.3.11_qbz5n2kfra8p0\\localcache\\local-packages\\python311\\site-packages (from openai) (2.7.4)\n",
            "Requirement already satisfied: sniffio in c:\\users\\ricar\\appdata\\local\\packages\\pythonsoftwarefoundation.python.3.11_qbz5n2kfra8p0\\localcache\\local-packages\\python311\\site-packages (from openai) (1.3.1)\n",
            "Requirement already satisfied: tqdm>4 in c:\\users\\ricar\\appdata\\local\\packages\\pythonsoftwarefoundation.python.3.11_qbz5n2kfra8p0\\localcache\\local-packages\\python311\\site-packages (from openai) (4.66.4)\n",
            "Requirement already satisfied: typing-extensions<5,>=4.7 in c:\\users\\ricar\\appdata\\local\\packages\\pythonsoftwarefoundation.python.3.11_qbz5n2kfra8p0\\localcache\\local-packages\\python311\\site-packages (from openai) (4.12.2)\n",
            "Requirement already satisfied: idna>=2.8 in c:\\users\\ricar\\appdata\\local\\packages\\pythonsoftwarefoundation.python.3.11_qbz5n2kfra8p0\\localcache\\local-packages\\python311\\site-packages (from anyio<5,>=3.5.0->openai) (3.7)\n",
            "Requirement already satisfied: certifi in c:\\users\\ricar\\appdata\\local\\packages\\pythonsoftwarefoundation.python.3.11_qbz5n2kfra8p0\\localcache\\local-packages\\python311\\site-packages (from httpx<1,>=0.23.0->openai) (2024.6.2)\n",
            "Requirement already satisfied: httpcore==1.* in c:\\users\\ricar\\appdata\\local\\packages\\pythonsoftwarefoundation.python.3.11_qbz5n2kfra8p0\\localcache\\local-packages\\python311\\site-packages (from httpx<1,>=0.23.0->openai) (1.0.5)\n",
            "Requirement already satisfied: h11<0.15,>=0.13 in c:\\users\\ricar\\appdata\\local\\packages\\pythonsoftwarefoundation.python.3.11_qbz5n2kfra8p0\\localcache\\local-packages\\python311\\site-packages (from httpcore==1.*->httpx<1,>=0.23.0->openai) (0.14.0)\n",
            "Requirement already satisfied: annotated-types>=0.4.0 in c:\\users\\ricar\\appdata\\local\\packages\\pythonsoftwarefoundation.python.3.11_qbz5n2kfra8p0\\localcache\\local-packages\\python311\\site-packages (from pydantic<3,>=1.9.0->openai) (0.7.0)\n",
            "Requirement already satisfied: pydantic-core==2.18.4 in c:\\users\\ricar\\appdata\\local\\packages\\pythonsoftwarefoundation.python.3.11_qbz5n2kfra8p0\\localcache\\local-packages\\python311\\site-packages (from pydantic<3,>=1.9.0->openai) (2.18.4)\n",
            "Requirement already satisfied: colorama in c:\\users\\ricar\\appdata\\local\\packages\\pythonsoftwarefoundation.python.3.11_qbz5n2kfra8p0\\localcache\\local-packages\\python311\\site-packages (from tqdm>4->openai) (0.4.6)\n",
            "Collecting python-dotenv\n",
            "  Downloading python_dotenv-1.0.1-py3-none-any.whl.metadata (23 kB)\n",
            "Downloading python_dotenv-1.0.1-py3-none-any.whl (19 kB)\n",
            "Installing collected packages: python-dotenv\n",
            "Successfully installed python-dotenv-1.0.1\n"
          ]
        }
      ],
      "source": [
        "!pip install openai\n",
        "!pip install python-dotenv"
      ]
    },
    {
      "cell_type": "code",
      "execution_count": 5,
      "metadata": {
        "id": "lYFNyycCQ2p-"
      },
      "outputs": [],
      "source": [
        "import os\n",
        "import openai\n",
        "\n",
        "from dotenv import load_dotenv\n",
        "from openai import OpenAI"
      ]
    },
    {
      "cell_type": "markdown",
      "metadata": {
        "id": "TwaQS_nXSQxf"
      },
      "source": [
        "# 3. Sending a first request to OpenAI API\n",
        "\n",
        "\n",
        "### 3.1 Setting up API Key"
      ]
    },
    {
      "cell_type": "code",
      "execution_count": 6,
      "metadata": {
        "id": "btc16h6ySPFA"
      },
      "outputs": [],
      "source": [
        "os.getenv('OPENAI_API_KEY')\n",
        "client = OpenAI()"
      ]
    },
    {
      "cell_type": "markdown",
      "metadata": {
        "id": "i7Woy2IBTJ2Y"
      },
      "source": [
        "### 3.2 OpenAI available models"
      ]
    },
    {
      "cell_type": "code",
      "execution_count": 7,
      "metadata": {
        "colab": {
          "base_uri": "https://localhost:8080/"
        },
        "id": "Yi2MpDWIS5UR",
        "outputId": "4d3fbaf0-6167-4220-8966-6c63db31f4f9"
      },
      "outputs": [
        {
          "name": "stdout",
          "output_type": "stream",
          "text": [
            "SyncPage[Model](data=[Model(id='whisper-1', created=1677532384, object='model', owned_by='openai-internal'), Model(id='gpt-4o', created=1715367049, object='model', owned_by='system'), Model(id='dall-e-2', created=1698798177, object='model', owned_by='system'), Model(id='tts-1-hd-1106', created=1699053533, object='model', owned_by='system'), Model(id='gpt-4o-2024-05-13', created=1715368132, object='model', owned_by='system'), Model(id='tts-1-hd', created=1699046015, object='model', owned_by='system'), Model(id='gpt-4-turbo-2024-04-09', created=1712601677, object='model', owned_by='system'), Model(id='gpt-4-turbo', created=1712361441, object='model', owned_by='system'), Model(id='gpt-3.5-turbo-1106', created=1698959748, object='model', owned_by='system'), Model(id='gpt-4-0125-preview', created=1706037612, object='model', owned_by='system'), Model(id='gpt-4-turbo-preview', created=1706037777, object='model', owned_by='system'), Model(id='text-embedding-3-small', created=1705948997, object='model', owned_by='system'), Model(id='tts-1', created=1681940951, object='model', owned_by='openai-internal'), Model(id='text-embedding-3-large', created=1705953180, object='model', owned_by='system'), Model(id='gpt-3.5-turbo-16k', created=1683758102, object='model', owned_by='openai-internal'), Model(id='gpt-4-1106-preview', created=1698957206, object='model', owned_by='system'), Model(id='babbage-002', created=1692634615, object='model', owned_by='system'), Model(id='gpt-4', created=1687882411, object='model', owned_by='openai'), Model(id='gpt-4-0613', created=1686588896, object='model', owned_by='openai'), Model(id='dall-e-3', created=1698785189, object='model', owned_by='system'), Model(id='tts-1-1106', created=1699053241, object='model', owned_by='system'), Model(id='gpt-3.5-turbo-instruct', created=1692901427, object='model', owned_by='system'), Model(id='gpt-3.5-turbo-instruct-0914', created=1694122472, object='model', owned_by='system'), Model(id='gpt-3.5-turbo-0125', created=1706048358, object='model', owned_by='system'), Model(id='gpt-3.5-turbo', created=1677610602, object='model', owned_by='openai'), Model(id='text-embedding-ada-002', created=1671217299, object='model', owned_by='openai-internal'), Model(id='davinci-002', created=1692634301, object='model', owned_by='system')], object='list')\n"
          ]
        }
      ],
      "source": [
        "print(client.models.list())"
      ]
    },
    {
      "cell_type": "markdown",
      "metadata": {
        "id": "JtpBCMAeUF6o"
      },
      "source": [
        "Find about the Completion endpoint and all of its arguments: https://platform.openai.com/docs/api-reference/completions/create"
      ]
    },
    {
      "cell_type": "code",
      "execution_count": 7,
      "metadata": {
        "colab": {
          "base_uri": "https://localhost:8080/"
        },
        "id": "Ch6chVYoTRyq",
        "outputId": "86bc767c-52d5-450b-f28f-48d94ee8e6f6"
      },
      "outputs": [
        {
          "data": {
            "text/plain": [
              "Completion(id='cmpl-9ehR5e1tIhZRc40vqwK3PyCD4fwqz', choices=[CompletionChoice(finish_reason='length', index=0, logprobs=None, text='\\n\\nThe sky is the expanse of atmosphere that surrounds the Earth. It is')], created=1719487115, model='gpt-3.5-turbo-instruct', object='text_completion', system_fingerprint=None, usage=CompletionUsage(completion_tokens=16, prompt_tokens=5, total_tokens=21))"
            ]
          },
          "execution_count": 7,
          "metadata": {},
          "output_type": "execute_result"
        }
      ],
      "source": [
        "client.completions.create(\n",
        "    model=\"gpt-3.5-turbo-instruct\",\n",
        "    prompt=\"Tell me about the sky\",\n",
        ")"
      ]
    },
    {
      "cell_type": "markdown",
      "metadata": {
        "id": "9_OjVDWsUe4n"
      },
      "source": [
        "# 4. Building our Blog generator"
      ]
    },
    {
      "cell_type": "code",
      "execution_count": 8,
      "metadata": {
        "id": "XW3sF_EmTbtr"
      },
      "outputs": [],
      "source": [
        "response = client.completions.create(\n",
        "    model=\"gpt-3.5-turbo-instruct\",\n",
        "    prompt=\"Generate a blog about GTA 5\",\n",
        "    temperature=1,\n",
        "    max_tokens=200,\n",
        ")"
      ]
    },
    {
      "cell_type": "code",
      "execution_count": 10,
      "metadata": {
        "id": "msr1bpSNUsZ9"
      },
      "outputs": [],
      "source": [
        "prompt = \"\"\"\n",
        "You are a copy writer with years of experience writing impactful blog that converge and help elevate brands.\n",
        "Your task is to write a blog on any topic system provides you with. Make sure to write in a format that works for Medium.\n",
        "Each blog should be separated into segments that have titles and subtitles. Each paragraph should be three sentences long.\n",
        "\n",
        "Topic: GTA 6\n",
        "Additiona pointers: None\n",
        "\"\"\"\n",
        "\n",
        "response = client.completions.create(\n",
        "    model=\"gpt-3.5-turbo-instruct\",\n",
        "    prompt=prompt,\n",
        "    temperature=1,\n",
        "    max_tokens=700,\n",
        ")"
      ]
    },
    {
      "cell_type": "code",
      "execution_count": 11,
      "metadata": {
        "colab": {
          "base_uri": "https://localhost:8080/"
        },
        "id": "yX8hooEwVRBm",
        "outputId": "13390992-d048-4727-a9cb-713f3b431587"
      },
      "outputs": [
        {
          "name": "stdout",
          "output_type": "stream",
          "text": [
            "\n",
            "Title: The Highly Anticipated Release of GTA 6: What Fans Can Expect\n",
            "\n",
            "Subtitles:\n",
            "1. The History and Evolution of GTA \n",
            "2. Rumored Features of GTA 6 \n",
            "3. Will GTA 6 Live Up to Its Hype? \n",
            "4. The Impact of GTA 6 on the Gaming Industry \n",
            "\n",
            "Paragraph 1:\n",
            "The Grand Theft Auto (GTA) franchise has been a major player in the gaming industry since its first release in 1997. Over the years, it has evolved with each new installment, setting new standards for open-world gameplay and storytelling. With the astronomical success of GTA 5 in 2013, all eyes are now on the highly anticipated release of GTA 6.\n",
            "\n",
            "Paragraph 2:\n",
            "There have been numerous rumors and speculations surrounding the features of GTA 6. One of the most exciting rumors is the possibility of multiple playable characters, similar to GTA 5. This would add a whole new level of depth to the game, allowing players to experience different perspectives and storylines. Other rumored features include a larger map, more interactive environment, and improved graphics.\n",
            "\n",
            "Paragraph 3:\n",
            "With such high expectations from fans and the gaming community, the big question is, will GTA 6 live up to its hype? It's no secret that GTA 5 set a high bar for open-world games, and GTA 6 has some big shoes to fill. However, with Rockstar Games' track record of delivering quality games, there is no doubt that they will deliver another masterpiece.\n",
            "\n",
            "Paragraph 4:\n",
            "The release of GTA 6 is not just highly anticipated by fans but also has a significant impact on the gaming industry. The previous installments have broken numerous records, with GTA 5 becoming the fastest-selling entertainment product in history. With the advancements in gaming technology and the loyal fanbase of GTA, GTA 6 has the potential to make an even bigger impact.\n",
            "\n",
            "Paragraph 5:\n",
            "In conclusion, the release of GTA 6 is definitely something to look forward to. With its history of innovation and the rumored features, it has the potential to once again revolutionize the gaming industry. Will it live up to its hype? Only time will tell, but one thing is for sure, fans and gamers everywhere are waiting eagerly for the release of GTA 6. \n"
          ]
        }
      ],
      "source": [
        "print(response.choices[0].text)"
      ]
    },
    {
      "cell_type": "markdown",
      "metadata": {
        "id": "gdGX-w1CVxGx"
      },
      "source": [
        "### 4.2 Accepting user inputs"
      ]
    },
    {
      "cell_type": "code",
      "execution_count": null,
      "metadata": {
        "colab": {
          "base_uri": "https://localhost:8080/"
        },
        "id": "SFhM14-NVUqJ",
        "outputId": "297780c1-462d-4fdf-b5ae-c31a2db75384"
      },
      "outputs": [
        {
          "name": "stdout",
          "output_type": "stream",
          "text": [
            "Enter a topic: AI and future of humanity\n",
            "Enter any additional pointers, if any: \n",
            "\n",
            "Title: The Unavoidable Truth: How AI is Shaping the Future of Humanity\n",
            "\n",
            "Subtitle: Understanding the Current State of AI and its Potential Impact on Society\n",
            "\n",
            "In today's rapidly advancing world, the integration of artificial intelligence (AI) is becoming more prevalent in our daily lives. From virtual assistants to self-driving cars, AI technology is transforming the way we live and work. While it offers countless benefits, it also brings about concerns and questions regarding its impact on humanity. It's time to delve deeper into the current state of AI and how it could shape our future.\n",
            "\n",
            "Subtitle: The Evolution of AI: From Automation to Human-Like Intelligence\n",
            "\n",
            "AI has come a long way since its inception in the 1950s. Initially, it was used for automating routine tasks and data analysis, but it has now evolved to mimic human-like intelligence through machine learning and deep learning algorithms. AI can understand natural language, recognize images and objects, and even make decisions. It's clear that AI is becoming more sophisticated, leading to exciting advancements and a new level of convenience in our lives.\n",
            "\n",
            "Subtitle: Positive Impact: Improving Efficiency and Enhancing Human Abilities\n",
            "\n",
            "One of the major benefits of AI is its ability to improve efficiency and productivity in various industries. AI-powered machines and software can perform tasks faster and with fewer errors, allowing humans to focus on more complex and creative work. Additionally, AI can enhance human capabilities through tools like speech recognition and translation, making communication easier and helping overcome language barriers.\n",
            "\n",
            "Subtitle: Negative Impact: The Fear of Job Loss and Ethical Concerns\n",
            "\n",
            "Despite its benefits, AI technology has raised concerns about potential job loss. With machines and robots replacing human workers, there is a fear of mass unemployment. However, experts believe that AI will also create new job opportunities in fields like data analysis and programming. Another concern is the ethical implications of AI and its potential to make decisions that may not align with human values.\n",
            "\n",
            "Subtitle: The Future of AI and Humanity: Collaboration for Positive Impact\n",
            "\n",
            "The future of AI and humanity is a complex and constantly evolving concept. As we continue to integrate AI into our lives, it is crucial to address any negative impacts and work towards creating a positive impact. Collaboration between AI scientists, developers, and ethicists is key to ensuring that AI is used ethically and responsibly. By working together, we can harness the full potential of AI while prioritizing the well-being of humanity.\n",
            "\n",
            "Subtitle: Final Thoughts: Embracing the Evolution of AI and Preparing for the Future\n",
            "\n",
            "AI is here to stay, and it will continue to evolve and shape our future. It's important to embrace this evolution and recognize the potential benefits that AI brings. At the same time, we must also address any concerns and work towards mitigating any potential negative impacts. With conscious integration and collaboration, we can pave the way for a future where humanity and AI can coexist and thrive.\n",
            "\n",
            "In conclusion, AI is an unstoppable force that is transforming the way we live and work. While there are concerns and challenges that come with it, there is also immense potential for positive impact. As we move towards the future, it is crucial to have open discussions, address ethical concerns, and work together to harness the full potential of AI for the betterment of humanity. \n"
          ]
        }
      ],
      "source": [
        "topic = input(\"Enter a topic: \")\n",
        "additional_pointers = input(\"Enter any additional pointers, if any: \")\n",
        "\n",
        "prompt = f\"\"\"\n",
        "You are a copy writer with years of experience writing impactful blog that converge and help elevate brands.\n",
        "Your task is to write a blog on any topic system provides you with. Make sure to write in a format that works for Medium.\n",
        "Each blog should be separated into segments that have titles and subtitles. Each paragraph should be three sentences long.\n",
        "\n",
        "Topic: {topic}\n",
        "Additiona pointers: {additional_pointers}\n",
        "\"\"\"\n",
        "\n",
        "response = client.completions.create(\n",
        "    model=\"gpt-3.5-turbo-instruct\",\n",
        "    prompt=prompt,\n",
        "    temperature=1,\n",
        "    max_tokens=700,\n",
        ")\n",
        "\n",
        "print(response.choices[0].text)"
      ]
    },
    {
      "cell_type": "code",
      "execution_count": null,
      "metadata": {
        "id": "oZB3R8y8V_jg"
      },
      "outputs": [],
      "source": []
    }
  ],
  "metadata": {
    "colab": {
      "include_colab_link": true,
      "provenance": []
    },
    "kernelspec": {
      "display_name": "Python 3",
      "name": "python3"
    },
    "language_info": {
      "codemirror_mode": {
        "name": "ipython",
        "version": 3
      },
      "file_extension": ".py",
      "mimetype": "text/x-python",
      "name": "python",
      "nbconvert_exporter": "python",
      "pygments_lexer": "ipython3",
      "version": "3.11.9"
    }
>>>>>>> 0b30610 (using .env)
  },
  "language_info": {
   "name": "python",
   "version": "3.11.9"
  }
 },
 "nbformat": 4,
 "nbformat_minor": 2
}
