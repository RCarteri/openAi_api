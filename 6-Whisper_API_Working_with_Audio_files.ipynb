{
  "cells": [
    {
      "cell_type": "markdown",
      "metadata": {
        "colab_type": "text",
        "id": "view-in-github"
      },
      "source": [
        "<a href=\"https://colab.research.google.com/github/RCarteri/openAi_api/blob/main/Whisper_API_Working_with_Audio_files.ipynb\" target=\"_parent\"><img src=\"https://colab.research.google.com/assets/colab-badge.svg\" alt=\"Open In Colab\"/></a>"
      ]
    },
    {
      "cell_type": "markdown",
      "metadata": {
        "id": "vUehOJlORE-j"
      },
      "source": [
        "# Project 6: Automatic Voice Message Translation System\n",
        "\n",
        "In this innovative project, we're going to build a system that bridges language barriers: an automatic voice message translation system. Utilizing OpenAI's Whisper API for state-of-the-art speech-to-text capabilities and the ChatCompletion API for accurate text translation, we will create an end-to-end solution that can translate any voice message into a chosen language.\n",
        "\n",
        "## What You Will Learn\n",
        "\n",
        "- **Whisper API for Speech Recognition**: Master the use of OpenAI's Whisper API to convert speech from voice messages into text.\n",
        "- **ChatCompletion API for Translation**: Learn how to implement the ChatCompletion API to translate the transcribed text into the desired language.\n",
        "- **Audio File Handling**: Develop skills for processing audio files in various formats within the Google Colab environment.\n",
        "\n",
        "## Preparation Checklist\n",
        "\n",
        "Before we start, make sure you have the following:\n",
        "\n",
        "- An active Google Colab account.\n",
        "- Basic to intermediate knowledge of Python programming.\n",
        "- Familiarity with handling APIs and audio data.\n",
        "- Access to OpenAI API keys with permissions to use Whisper and ChatCompletion APIs ([OpenAI](https://platform.openai.com/account/api-keys)).\n",
        "\n",
        "## Time to Break Down Language Barriers\n",
        "\n",
        "Get ready to dive into the world of automatic translation. By the end of this project, you will be capable of turning voice messages from any language into text and then into another language of your choice, all within moments!\n",
        "\n"
      ]
    },
    {
      "cell_type": "markdown",
      "metadata": {
        "id": "NDlbXftjSHdL"
      },
      "source": [
        "# 2. Libraries import"
      ]
    },
    {
      "cell_type": "code",
      "execution_count": null,
      "metadata": {
        "colab": {
          "base_uri": "https://localhost:8080/"
        },
        "id": "KTBw517ySLF2",
        "outputId": "3620bba7-533a-4888-803e-e8609a6c6fa0"
      },
      "outputs": [
        {
          "name": "stdout",
          "output_type": "stream",
          "text": [
            "Collecting openai\n",
            "  Downloading openai-1.1.1-py3-none-any.whl (217 kB)\n",
            "\u001b[2K     \u001b[90m━━━━━━━━━━━━━━━━━━━━━━━━━━━━━━━━━━━━━━━━\u001b[0m \u001b[32m217.8/217.8 kB\u001b[0m \u001b[31m2.3 MB/s\u001b[0m eta \u001b[36m0:00:00\u001b[0m\n",
            "\u001b[?25hRequirement already satisfied: anyio<4,>=3.5.0 in /usr/local/lib/python3.10/dist-packages (from openai) (3.7.1)\n",
            "Requirement already satisfied: distro<2,>=1.7.0 in /usr/lib/python3/dist-packages (from openai) (1.7.0)\n",
            "Collecting httpx<1,>=0.23.0 (from openai)\n",
            "  Downloading httpx-0.25.1-py3-none-any.whl (75 kB)\n",
            "\u001b[2K     \u001b[90m━━━━━━━━━━━━━━━━━━━━━━━━━━━━━━━━━━━━━━━━\u001b[0m \u001b[32m75.0/75.0 kB\u001b[0m \u001b[31m9.3 MB/s\u001b[0m eta \u001b[36m0:00:00\u001b[0m\n",
            "\u001b[?25hRequirement already satisfied: pydantic<3,>=1.9.0 in /usr/local/lib/python3.10/dist-packages (from openai) (1.10.13)\n",
            "Requirement already satisfied: tqdm>4 in /usr/local/lib/python3.10/dist-packages (from openai) (4.66.1)\n",
            "Requirement already satisfied: typing-extensions<5,>=4.5 in /usr/local/lib/python3.10/dist-packages (from openai) (4.5.0)\n",
            "Requirement already satisfied: idna>=2.8 in /usr/local/lib/python3.10/dist-packages (from anyio<4,>=3.5.0->openai) (3.4)\n",
            "Requirement already satisfied: sniffio>=1.1 in /usr/local/lib/python3.10/dist-packages (from anyio<4,>=3.5.0->openai) (1.3.0)\n",
            "Requirement already satisfied: exceptiongroup in /usr/local/lib/python3.10/dist-packages (from anyio<4,>=3.5.0->openai) (1.1.3)\n",
            "Requirement already satisfied: certifi in /usr/local/lib/python3.10/dist-packages (from httpx<1,>=0.23.0->openai) (2023.7.22)\n",
            "Collecting httpcore (from httpx<1,>=0.23.0->openai)\n",
            "  Downloading httpcore-1.0.1-py3-none-any.whl (76 kB)\n",
            "\u001b[2K     \u001b[90m━━━━━━━━━━━━━━━━━━━━━━━━━━━━━━━━━━━━━━━━\u001b[0m \u001b[32m76.9/76.9 kB\u001b[0m \u001b[31m8.5 MB/s\u001b[0m eta \u001b[36m0:00:00\u001b[0m\n",
            "\u001b[?25hCollecting h11<0.15,>=0.13 (from httpcore->httpx<1,>=0.23.0->openai)\n",
            "  Downloading h11-0.14.0-py3-none-any.whl (58 kB)\n",
            "\u001b[2K     \u001b[90m━━━━━━━━━━━━━━━━━━━━━━━━━━━━━━━━━━━━━━━━\u001b[0m \u001b[32m58.3/58.3 kB\u001b[0m \u001b[31m6.9 MB/s\u001b[0m eta \u001b[36m0:00:00\u001b[0m\n",
            "\u001b[?25hInstalling collected packages: h11, httpcore, httpx, openai\n",
            "\u001b[31mERROR: pip's dependency resolver does not currently take into account all the packages that are installed. This behaviour is the source of the following dependency conflicts.\n",
            "llmx 0.0.15a0 requires cohere, which is not installed.\n",
            "llmx 0.0.15a0 requires tiktoken, which is not installed.\u001b[0m\u001b[31m\n",
            "\u001b[0mSuccessfully installed h11-0.14.0 httpcore-1.0.1 httpx-0.25.1 openai-1.1.1\n"
          ]
        }
      ],
      "source": [
        "!pip install openai"
      ]
    },
    {
      "cell_type": "code",
      "execution_count": 1,
      "metadata": {
        "id": "lYFNyycCQ2p-"
      },
      "outputs": [],
      "source": [
        "import os\n",
        "import openai\n",
        "\n",
        "from openai import OpenAI"
      ]
    },
    {
      "cell_type": "markdown",
      "metadata": {
        "id": "TwaQS_nXSQxf"
      },
      "source": [
        "# 3. Sending a first request to OpenAI API\n",
        "\n",
        "\n",
        "### 3.1 Setting up API Key"
      ]
    },
    {
      "cell_type": "code",
      "execution_count": 2,
      "metadata": {
        "id": "btc16h6ySPFA"
      },
      "outputs": [],
      "source": [
        "from dotenv import load_dotenv\n",
        "load_dotenv()\n",
        "os.getenv('OPENAI_API_KEY')\n",
        "client = OpenAI()"
      ]
    },
    {
      "cell_type": "markdown",
      "metadata": {
        "id": "9_OjVDWsUe4n"
      },
      "source": [
        "# 4. Processing Audio files with Whisper"
      ]
    },
    {
      "cell_type": "code",
      "execution_count": 3,
      "metadata": {
        "id": "MsoHQlVsSywU"
      },
      "outputs": [],
      "source": [
        "audio_file = open(\"files/audio_file_whisper.mp3\", 'rb')\n",
        "\n",
        "transcription = client.audio.transcriptions.create(\n",
        "    model = \"whisper-1\",\n",
        "    file = audio_file,\n",
        "    response_format = \"vtt\"\n",
        ")"
      ]
    },
    {
      "cell_type": "code",
      "execution_count": 4,
      "metadata": {
        "id": "bIrZ8nmPX4u3"
      },
      "outputs": [
        {
          "name": "stdout",
          "output_type": "stream",
          "text": [
            "WEBVTT\n",
            "\n",
            "00:00:00.000 --> 00:00:07.280\n",
            "I had this scenario where I was on an elevator with a senior EVP that I admire in a Fortune 500\n",
            "\n",
            "00:00:07.280 --> 00:00:12.400\n",
            "company I work at. I feel like I present myself well during the quick interaction. My question\n",
            "\n",
            "00:00:12.400 --> 00:00:17.600\n",
            "for you is, in a hypothetical situation, if you're on the elevator with a senior executive\n",
            "\n",
            "00:00:17.600 --> 00:00:22.240\n",
            "and you're one-on-one with him, how do you present yourself to them? What is your pitch? Yeah,\n",
            "\n",
            "00:00:22.799 --> 00:00:27.440\n",
            "this is a great question. So I remember when I used to work at Goldman Sachs years ago,\n",
            "\n",
            "00:00:27.440 --> 00:00:31.920\n",
            "I get nervous when I was in an elevator and there's a senior executive there. I remember\n",
            "\n",
            "00:00:31.920 --> 00:00:37.599\n",
            "one day there was this guy named Bob Steele, who was executive vice chairman of the firm at the\n",
            "\n",
            "00:00:37.599 --> 00:00:40.639\n",
            "time. And I was in the elevator with him and there's somebody else there too, and I didn't\n",
            "\n",
            "00:00:40.639 --> 00:00:45.439\n",
            "know what to say. And so I said, beautiful day, isn't it? Right. And he kind of looked at me like,\n",
            "\n",
            "00:00:47.520 --> 00:00:52.880\n",
            "and they lose respect for you when you don't act yourself. Okay. So just kind of, I don't know,\n",
            "\n",
            "00:00:52.880 --> 00:00:56.799\n",
            "be yourself. You can just say something like, hey, how you doing? You see the game last night,\n",
            "\n",
            "00:00:56.799 --> 00:01:01.599\n",
            "whatever it is. Don't be uptight like I was. Okay. Because I remember after the elevator\n",
            "\n",
            "00:01:01.599 --> 00:01:05.839\n",
            "ride at One New York Plaza from the 49th floor down to the first floor, which felt like forever.\n",
            "\n",
            "00:01:06.800 --> 00:01:12.959\n",
            "After the elevator ride, I asked myself, did I sound smart? Did I say something? Was that,\n",
            "\n",
            "00:01:12.959 --> 00:01:18.000\n",
            "did that help my career or not? And it was ridiculous. It was ridiculous. And I think\n",
            "\n",
            "00:01:18.000 --> 00:01:23.120\n",
            "he probably lost a little bit of respect for me as well. So you just got to be yourself and other\n",
            "\n",
            "00:01:23.120 --> 00:01:27.360\n",
            "people around you, like your colleagues, if they see that you're not yourself, they'll lose respect\n",
            "\n",
            "00:01:27.360 --> 00:01:32.879\n",
            "for you as well. So just pretend that this person is your aunt or uncle you haven't seen in a while.\n",
            "\n",
            "00:01:32.879 --> 00:01:39.360\n",
            "Just be yourself. Just be laid back, you know, because as Dr. Seuss said, those who mind don't\n",
            "\n",
            "00:01:39.360 --> 00:01:45.440\n",
            "matter and those who matter don't mind. Be you. Everybody else is taken. Yeah. And when you go to\n",
            "\n",
            "00:01:45.440 --> 00:01:49.680\n",
            "an interview as well, and I remember I went on this streak where I couldn't get a job for a while\n",
            "\n",
            "00:01:49.680 --> 00:01:55.040\n",
            "and I prepared like crazy for interviews and I just wasn't myself. It was kind of robotic,\n",
            "\n",
            "00:01:55.040 --> 00:01:59.440\n",
            "you know, like Mark Zuckerberg testifying in front of Congress. That's how he laughs. Yeah.\n",
            "\n",
            "00:02:00.080 --> 00:02:05.360\n",
            "I wasn't myself and I couldn't get a job, man. And so I went to an interview finally, and I was like,\n",
            "\n",
            "00:02:06.160 --> 00:02:11.839\n",
            "I don't really care if I get this job. And I was just myself. And, you know, we talked about the\n",
            "\n",
            "00:02:11.839 --> 00:02:16.800\n",
            "weather, we talked about sports, and I ended up getting that job. I'm not telling you to be rude\n",
            "\n",
            "00:02:16.800 --> 00:02:22.000\n",
            "or disingenuous or too laid back, but just, you know, be yourself. Just chill out and don't worry\n",
            "\n",
            "00:02:22.000 --> 00:02:26.800\n",
            "about it. I promise you it works. And one little tip I have before you do an informational meeting\n",
            "\n",
            "00:02:26.800 --> 00:02:33.679\n",
            "or an interview with anybody is I want you to go to their Twitter profile. Okay. And I want you to\n",
            "\n",
            "00:02:33.679 --> 00:02:39.199\n",
            "see, you know, what are their interests? You know, if they love baseball, you can talk about baseball\n",
            "\n",
            "00:02:39.199 --> 00:02:44.559\n",
            "in the meeting. You know, sports is great boardroom talk because you can spark up a conversation\n",
            "\n",
            "00:02:44.559 --> 00:02:49.279\n",
            "based on any city in the world with any sport you're passionate about. And what I did years\n",
            "\n",
            "00:02:49.279 --> 00:02:55.039\n",
            "ago in the hedge fund industry, and this is crazy, but there was this guy that I was interviewing with\n",
            "\n",
            "00:02:55.039 --> 00:03:02.080\n",
            "and he was a massive New York Rangers hockey fan. And so what I did on my Nintendo GameCube in 2002\n",
            "\n",
            "00:03:02.080 --> 00:03:07.119\n",
            "before I interviewed with him was I bought this NHL game and I played as the Rangers for a while,\n",
            "\n",
            "00:03:07.119 --> 00:03:10.800\n",
            "just so I can kind of understand a little bit more about the team. A little bit crazy, I know.\n",
            "\n",
            "00:03:10.800 --> 00:03:16.399\n",
            "The bottom line is this, and I'm rambling, I know. The bottom line is that if before your\n",
            "\n",
            "00:03:16.399 --> 00:03:20.399\n",
            "informational meeting, go to somebody's Twitter profile so you can find out what their interests\n",
            "\n",
            "00:03:20.399 --> 00:03:24.880\n",
            "are because you'll never get that second chance to make a great first impression. That's a cheesy\n",
            "\n",
            "00:03:24.880 --> 00:03:28.720\n",
            "quote from an old head and shoulders commercials from the eighties. But you got to bond before\n",
            "\n",
            "00:03:28.720 --> 00:03:31.759\n",
            "business. You'll never get that chance again. Don't ever go to a meeting and talk business\n",
            "\n",
            "00:03:31.759 --> 00:03:35.119\n",
            "right away. Just be you. You do you. You be you.\n",
            "\n",
            "\n"
          ]
        }
      ],
      "source": [
        "print(transcription)"
      ]
    },
    {
      "cell_type": "markdown",
      "metadata": {
        "id": "_Clc8Jk0TTt3"
      },
      "source": [
        "## Audio transcription"
      ]
    },
    {
      "cell_type": "code",
      "execution_count": 5,
      "metadata": {
        "id": "9wFnlLoNZAJK"
      },
      "outputs": [],
      "source": [
        "audio_file = open(\"files/audio_file_whisper.mp3\", 'rb')\n",
        "\n",
        "transcription = client.audio.translations.create(\n",
        "    model = \"whisper-1\",\n",
        "    file = audio_file,\n",
        ")"
      ]
    },
    {
      "cell_type": "code",
      "execution_count": 6,
      "metadata": {
        "id": "6euuSZWeRavf"
      },
      "outputs": [
        {
          "name": "stdout",
          "output_type": "stream",
          "text": [
            "I had this scenario where I was on an elevator with a senior EVP that I admire in a Fortune 500 company I work at. I feel like I present myself well during the quick interaction. My question for you is, in a hypothetical situation, if you're on the elevator with a senior executive and you're one-on-one with him, how do you present yourself to them? What is your pitch? Yeah, this is a great question. So I remember when I used to work at Goldman Sachs years ago, I get nervous when I was in an elevator and there's a senior executive there. I remember one day there was this guy named Bob Steele, who was executive vice chairman of the firm at the time. And I was in the elevator with him and there's somebody else there too, and I didn't know what to say. And so I said, beautiful day, isn't it? And he kind of looked at me like... And they lose respect for you when you don't act yourself. Okay, so just kind of be yourself. You can just say something like, hey, how you doing? Did you see the game last night? Whatever it is. Don't be uptight like I was. Okay, because I remember after the elevator ride at One New York Plaza from the 49th floor down to the first floor, which felt like forever. After the elevator ride, I asked myself, did I sound smart? Did I say something? Did that help my career or not? And it was ridiculous. It was ridiculous. And I think he probably lost a little bit of respect for me as well. So you just got to be yourself. And other people around you, like your colleagues, if they see that you're not yourself, they'll lose respect for you as well. So just pretend that this person is your aunt or uncle you haven't seen in a while. Just be yourself. Just be laid back. Because as Dr. Seuss said, those who mind don't matter and those who matter don't mind. Be you, everybody else is taken. And when you go to an interview as well, and I remember I went on this streak where I couldn't get a job for a while. And I prepared like crazy for interviews. And I just wasn't myself. It was kind of robotic, you know, like Mark Zuckerberg testifying in front of Congress. That's how he laughs. Yeah, I wasn't myself. And I couldn't get a job, man. And so I went to an interview finally, and I was like, I don't really care if I get this job. And I was just myself. And you know, we talked about the weather, we talked about sports, and I ended up getting that job. I'm not telling you to be rude or disingenuous or too laid back, but just, you know, be yourself. Just chill out and don't worry about it. I promise you it works. And one little tip I have before you do an informational meeting or an interview with anybody is I want you to go to their Twitter profile, okay? And I want you to see, you know, what are their interests? You know, if they love baseball, you can talk about baseball in the meeting. You know, sports is great boardroom talk because you can spark up a conversation based on any city in the world with any sport you're passionate about. And what I did years ago in the hedge fund industry, and this is crazy, but there was this guy that I was interviewing with and he was a massive New York Rangers hockey fan. And so what I did on my Nintendo GameCube in 2002 before I interviewed with him was I bought this NHL game and I played as the Rangers for a while just so I can kind of understand a little bit more about the team. A little bit crazy, I know. The bottom line is this, and I'm rambling, I know. The bottom line is that if before your informational meeting, go to somebody's Twitter profile so you can find out what their interests are because you'll never get that second chance to make a great first impression. That's a cheesy quote from an old head and shoulders commercials from the 80s. But you got to bond before business. You'll never get that chance again. Don't ever go to a meeting and talk business right away. Just be you. You do you. You be you.\n"
          ]
        }
      ],
      "source": [
        "print(transcription.text)"
      ]
    },
    {
      "cell_type": "markdown",
      "metadata": {
        "id": "mzr2K30GUbUN"
      },
      "source": [
        "## Translating to any language using ChatGPT and Whisper\n",
        "\n"
      ]
    },
    {
      "cell_type": "code",
      "execution_count": 7,
      "metadata": {
        "id": "CtAclzsPT3Ho"
      },
      "outputs": [],
      "source": [
        "target_language = \"Portuguese\"\n",
        "messages = [{\"role\": \"system\", \"content\": \"\"\"I want you to act as an algorithm for translation to language {}. Systep will provide you with a text, and your only task is to translate it to {}. Never break character.\"\"\".format(target_language, target_language)}]\n",
        "messages.append({\"role\":\"user\", \"content\":transcription.text})"
      ]
    },
    {
      "cell_type": "code",
      "execution_count": 9,
      "metadata": {
        "id": "D3AglPCLR1_x"
      },
      "outputs": [],
      "source": [
        "translation_res = client.chat.completions.create(\n",
        "    model = \"gpt-3.5-turbo\",\n",
        "    messages=messages,\n",
        "    max_tokens=500,\n",
        "    temperature=1\n",
        ")"
      ]
    },
    {
      "cell_type": "code",
      "execution_count": 10,
      "metadata": {
        "id": "kIb1xtNFSUAP"
      },
      "outputs": [
        {
          "data": {
            "text/plain": [
              "'Tive este cenário em que estava num elevador com um EVP sénior que admiro numa empresa Fortune 500 onde trabalho. Sinto que me apresentei bem durante a rápida interação. A minha pergunta para ti é, numa situação hipotética, se estiveres num elevador com um executivo sénior e estiveres a sós com ele, como te apresentarias? Qual é o teu discurso de venda? Sim, esta é uma ótima pergunta. Lembro-me de quando trabalhava no Goldman Sachs há anos, ficava nervoso quando estava num elevador com um executivo sénior. Lembro-me de um dia em que estava no elevador com esse cara chamado Bob Steele, que na altura era vice-presidente executivo da empresa. E havia mais alguém lá, e eu não sabia o que dizer. Então disse: dia bonito, não é? E ele meio que me olhou assim... E eles perdem o respeito por ti quando não ages naturalmente. Ok, então apenas sê tu mesmo. Podes dizer algo como, ei, como estás? Viste o jogo ontem à noite? Seja o que for. Não fiques tenso como eu fiquei. Porque lembro-me que depois da viagem de elevador no One New York Plaza do 49º andar até ao primeiro andar, que parecia uma eternidade. Depois da viagem de elevador, perguntei-me: pareci inteligente? Disse algo? Isso ajudou a minha carreira ou não? E foi ridículo. Foi ridículo. E acho que ele provavelmente perdeu um pouco do respeito por mim também. Então só tens que ser tu mesmo. E as outras pessoas à tua volta, como os teus colegas, se virem que não és tu mesmo, também irão perder o respeito por ti. Então finge que esta pessoa é tua tia ou tio que não vês há algum tempo. Apenas sê tu mesmo. Apenas relaxa e não te preocupes com isso. Prometo que funciona.  '"
            ]
          },
          "execution_count": 10,
          "metadata": {},
          "output_type": "execute_result"
        }
      ],
      "source": [
        "translation_res.choices[0].message.content"
      ]
    },
    {
      "cell_type": "code",
      "execution_count": null,
      "metadata": {
        "id": "VVAT-yCsPlDo"
      },
      "outputs": [],
      "source": []
    }
  ],
  "metadata": {
    "colab": {
      "include_colab_link": true,
      "provenance": []
    },
    "kernelspec": {
      "display_name": "Python 3",
      "name": "python3"
    },
    "language_info": {
      "codemirror_mode": {
        "name": "ipython",
        "version": 3
      },
      "file_extension": ".py",
      "mimetype": "text/x-python",
      "name": "python",
      "nbconvert_exporter": "python",
      "pygments_lexer": "ipython3",
      "version": "3.11.9"
    }
  },
  "nbformat": 4,
  "nbformat_minor": 0
}
