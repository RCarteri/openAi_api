{
<<<<<<< HEAD
=======
  "nbformat": 4,
  "nbformat_minor": 0,
  "metadata": {
    "colab": {
      "provenance": [],
      "include_colab_link": true
    },
    "kernelspec": {
      "name": "python3",
      "display_name": "Python 3"
    },
    "language_info": {
      "name": "python"
    }
  },
>>>>>>> 5ef7e11 (Created using Colab)
  "cells": [
    {
      "cell_type": "markdown",
      "metadata": {
<<<<<<< HEAD
        "colab_type": "text",
        "id": "view-in-github"
=======
        "id": "view-in-github",
        "colab_type": "text"
>>>>>>> 5ef7e11 (Created using Colab)
      },
      "source": [
        "<a href=\"https://colab.research.google.com/github/RCarteri/openAi_api/blob/main/3-Movie_Recommendation_with_OpenAI_API.ipynb\" target=\"_parent\"><img src=\"https://colab.research.google.com/assets/colab-badge.svg\" alt=\"Open In Colab\"/></a>"
      ]
    },
    {
      "cell_type": "markdown",
<<<<<<< HEAD
      "metadata": {
        "id": "vUehOJlORE-j"
      },
=======
>>>>>>> 5ef7e11 (Created using Colab)
      "source": [
        "# Project 3: Movie Recommendation System Using Embeddings\n",
        "\n",
        "Welcome to the third project in our course, where we will design and build a Movie Recommendation System using the power of OpenAI embeddings. In this module, we'll tap into the advanced natural language understanding capabilities of OpenAI's machine learning models to analyze and match movie titles and descriptions, providing personalized recommendations to users.\n",
        "\n",
        "## What You Will Learn\n",
        "\n",
        "- **Understanding Embeddings**: Grasp the concept of embeddings and how they represent textual data in a way that captures semantic meaning.\n",
        "- **OpenAI's Embeddings API**: Get to know OpenAI's API for generating embeddings and learn how to leverage it to transform movie metadata into a suitable format for recommendation algorithms.\n",
        "- **Recommendation Logic**: Implement the logic for a recommendation system that uses cosine similarity to find the most relevant movie suggestions based on user preferences.\n",
        "- **Pinecone**: Working with Pinecone Vectore Database\n",
        "\n",
        "## Project Objectives\n",
        "\n",
        "This project will guide you to build a recommendation system that:\n",
        "\n",
        "1. **Processes Movie Data**: Converts movie titles and descriptions into embeddings that capture the essence of the content.\n",
        "2. **Calculates Similarities**: Uses the embeddings to find similarities between movies based on user queries or past user interactions.\n",
        "3. **Generates Recommendations**: Offers a list of movie recommendations tailored to the user's tastes and viewing history.\n",
        "4. **Pinecone**: Working with Pinecone Vectore Database\n",
        "\n",
        "\n",
        "## Prerequisites\n",
        "\n",
        "Ensure you're ready to start with:\n",
        "\n",
        "- A Google Colab account set up and ready to go.\n",
        "- Fundamental knowledge of Python and machine learning concepts.\n",
        "- Access to OpenAI API for embeddings (obtain your API key from [OpenAI](https://platform.openai.com/account/api-keys)).\n",
        "\n",
        "## Let's Begin\n",
        "\n",
        "Are you prepared to enter the world of personalized content recommendation? Let's harness the capabilities of embeddings and create a Movie Recommendation System!\n"
<<<<<<< HEAD
      ]
    },
    {
      "cell_type": "markdown",
      "metadata": {
        "id": "NDlbXftjSHdL"
      },
      "source": [
        "# 2. Libraries import"
      ]
    },
    {
      "cell_type": "code",
      "execution_count": null,
=======
      ],
      "metadata": {
        "id": "vUehOJlORE-j"
      }
    },
    {
      "cell_type": "markdown",
      "source": [
        "# 2. Libraries import"
      ],
      "metadata": {
        "id": "NDlbXftjSHdL"
      }
    },
    {
      "cell_type": "code",
      "source": [
        "!pip install openai"
      ],
>>>>>>> 5ef7e11 (Created using Colab)
      "metadata": {
        "colab": {
          "base_uri": "https://localhost:8080/"
        },
        "id": "KTBw517ySLF2",
        "outputId": "ca8f6c6e-8f75-4167-b3d7-0b26d659bb55"
      },
<<<<<<< HEAD
      "outputs": [
        {
          "name": "stdout",
          "output_type": "stream",
=======
      "execution_count": null,
      "outputs": [
        {
          "output_type": "stream",
          "name": "stdout",
>>>>>>> 5ef7e11 (Created using Colab)
          "text": [
            "Requirement already satisfied: openai in /usr/local/lib/python3.10/dist-packages (1.1.1)\n",
            "Requirement already satisfied: anyio<4,>=3.5.0 in /usr/local/lib/python3.10/dist-packages (from openai) (3.7.1)\n",
            "Requirement already satisfied: distro<2,>=1.7.0 in /usr/lib/python3/dist-packages (from openai) (1.7.0)\n",
            "Requirement already satisfied: httpx<1,>=0.23.0 in /usr/local/lib/python3.10/dist-packages (from openai) (0.25.1)\n",
            "Requirement already satisfied: pydantic<3,>=1.9.0 in /usr/local/lib/python3.10/dist-packages (from openai) (1.10.13)\n",
            "Requirement already satisfied: tqdm>4 in /usr/local/lib/python3.10/dist-packages (from openai) (4.66.1)\n",
            "Requirement already satisfied: typing-extensions<5,>=4.5 in /usr/local/lib/python3.10/dist-packages (from openai) (4.5.0)\n",
            "Requirement already satisfied: idna>=2.8 in /usr/local/lib/python3.10/dist-packages (from anyio<4,>=3.5.0->openai) (3.4)\n",
            "Requirement already satisfied: sniffio>=1.1 in /usr/local/lib/python3.10/dist-packages (from anyio<4,>=3.5.0->openai) (1.3.0)\n",
            "Requirement already satisfied: exceptiongroup in /usr/local/lib/python3.10/dist-packages (from anyio<4,>=3.5.0->openai) (1.1.3)\n",
            "Requirement already satisfied: certifi in /usr/local/lib/python3.10/dist-packages (from httpx<1,>=0.23.0->openai) (2023.7.22)\n",
            "Requirement already satisfied: httpcore in /usr/local/lib/python3.10/dist-packages (from httpx<1,>=0.23.0->openai) (1.0.1)\n",
            "Requirement already satisfied: h11<0.15,>=0.13 in /usr/local/lib/python3.10/dist-packages (from httpcore->httpx<1,>=0.23.0->openai) (0.14.0)\n"
          ]
        }
<<<<<<< HEAD
      ],
      "source": [
        "!pip install openai"
=======
>>>>>>> 5ef7e11 (Created using Colab)
      ]
    },
    {
      "cell_type": "code",
<<<<<<< HEAD
      "execution_count": 2,
=======
      "execution_count": null,
>>>>>>> 5ef7e11 (Created using Colab)
      "metadata": {
        "id": "lYFNyycCQ2p-"
      },
      "outputs": [],
      "source": [
        "import os\n",
        "import openai\n",
        "import numpy as np\n",
        "import pandas as pd\n",
<<<<<<< HEAD
        "from dotenv import load_dotenv\n",
=======
        "\n",
>>>>>>> 5ef7e11 (Created using Colab)
        "from openai import OpenAI"
      ]
    },
    {
      "cell_type": "markdown",
<<<<<<< HEAD
      "metadata": {
        "id": "TwaQS_nXSQxf"
      },
=======
>>>>>>> 5ef7e11 (Created using Colab)
      "source": [
        "# 3. Sending a first request to OpenAI API\n",
        "\n",
        "\n",
        "### 3.1 Setting up API Key"
<<<<<<< HEAD
      ]
    },
    {
      "cell_type": "code",
      "execution_count": 3,
      "metadata": {
        "id": "btc16h6ySPFA"
      },
      "outputs": [],
      "source": [
        "load_dotenv()\n",
        "os.getenv('OPENAI_API_KEY')\n",
        "client = OpenAI()"
      ]
    },
    {
      "cell_type": "markdown",
      "metadata": {
        "id": "wwNqZjc2th6f"
      },
=======
      ],
      "metadata": {
        "id": "TwaQS_nXSQxf"
      }
    },
    {
      "cell_type": "code",
      "source": [
        "os.environ[\"OPENAI_API_KEY\"] = \"sk-XXXXXXXXXXXXX\"\n",
        "client = OpenAI()"
      ],
      "metadata": {
        "id": "btc16h6ySPFA"
      },
      "execution_count": null,
      "outputs": []
    },
    {
      "cell_type": "markdown",
>>>>>>> 5ef7e11 (Created using Colab)
      "source": [
        "### 3.2 Vectors and their similarity\n",
        "\n",
        "\n",
        "### Embeddings:\n",
        "\n",
        "Imagine you have a bunch of different fruits, and you want to describe each one on a piece of paper so that someone can understand what each fruit is like without seeing it. You’d write down things like the color, shape, size, and taste of each fruit. In the world of computers and AI, embeddings do something similar for words or movies.\n",
        "\n",
        "An embedding is a way of turning words, sentences, or things like movies into a list of numbers (we call this list a \"vector\") that represents different features, just like the list you made for the fruits. For example, for movies, the numbers might represent how action-packed they are, whether they are romantic, if they are funny, and so on. These numbers aren't random; they are calculated so that movies with similar numbers have similar features.\n",
        "\n",
        "![](https://cdn.sanity.io/images/vr8gru94/production/e016bbd4d7d57ff27e261adf1e254d2d3c609aac-2447x849.png)\n",
        "Source: https://www.pinecone.io/learn/vector-embeddings/\n",
        "\n",
        "### Vector Similarity:\n",
        "\n",
        "Now, let’s say you have two lists of numbers for two different movies. How can you tell if the movies are similar? This is where vector similarity comes in.\n",
        "\n",
        "Imagine you and a friend each have a toy car, and you race them side by side to see which one is faster. If the cars finish the race at almost the same time, you’d say they’re pretty similar in speed. Vector similarity does the same thing with the lists of numbers for the movies.\n",
        "\n",
        "Computers use a method to \"race\" the vectors against each other, often using something called \"cosine similarity.\" They check how close the numbers are in both lists. If the numbers are really close across both lists, it’s like two cars finishing at the same time, which means the movies are similar. If the numbers are far apart, then the movies are quite different, just like if one car finishes way ahead of the other.\n",
        "\n",
        "So, in simple terms:\n",
        "\n",
        "- **Embeddings** are like writing a detailed description of something (like a movie) in a special code of numbers that a computer can understand.\n",
        "- **Vector similarity** is like a race to see how similar two sets of numbers (or embeddings) are, which tells us how similar the things they represent (like two movies) might be to each other.\n",
        "\n",
        "\n",
        "![](https://cdn.sanity.io/images/vr8gru94/production/5a5ba7e0971f7b6dc4697732fa8adc59a46b6d8d-338x357.png)\n",
        "\n",
        "Source: https://www.pinecone.io/learn/vector-similarity/"
<<<<<<< HEAD
      ]
    },
    {
      "cell_type": "code",
      "execution_count": 6,
      "metadata": {
        "id": "hV1ASHAHvm-G"
      },
      "outputs": [],
      "source": [
        "experiment_sentence = \"The Terminator is a movie about AI going after human\""
      ]
    },
    {
      "cell_type": "code",
      "execution_count": 7,
      "metadata": {
        "id": "CkrkacuNwdHT"
      },
      "outputs": [],
      "source": [
        "res = client.embeddings.create(\n",
        "    model=\"text-embedding-ada-002\",\n",
        "    input=experiment_sentence\n",
        ")"
      ]
    },
    {
      "cell_type": "code",
      "execution_count": 9,
      "metadata": {
        "id": "6U9crRd0h0Rf"
      },
      "outputs": [
        {
          "data": {
            "text/plain": [
              "1536"
            ]
          },
          "execution_count": 9,
          "metadata": {},
          "output_type": "execute_result"
        }
      ],
      "source": [
        "len(res.data[0].embedding)"
      ]
    },
    {
      "cell_type": "markdown",
      "metadata": {
        "id": "PDn1iN-FwiBF"
      },
      "source": [
        "## Similarity"
      ]
    },
    {
      "cell_type": "code",
      "execution_count": 11,
      "metadata": {
        "id": "025NzygqwlTL"
      },
      "outputs": [],
=======
      ],
      "metadata": {
        "id": "wwNqZjc2th6f"
      }
    },
    {
      "cell_type": "code",
      "source": [
        "experiment_sentence = \"The Terminator is a movie about AI going after human\""
      ],
      "metadata": {
        "id": "hV1ASHAHvm-G"
      },
      "execution_count": null,
      "outputs": []
    },
    {
      "cell_type": "code",
      "source": [],
      "metadata": {
        "id": "CkrkacuNwdHT"
      },
      "execution_count": null,
      "outputs": []
    },
    {
      "cell_type": "code",
      "source": [],
      "metadata": {
        "id": "6U9crRd0h0Rf"
      },
      "execution_count": null,
      "outputs": []
    },
    {
      "cell_type": "markdown",
      "source": [
        "## Similarity"
      ],
      "metadata": {
        "id": "PDn1iN-FwiBF"
      }
    },
    {
      "cell_type": "code",
>>>>>>> 5ef7e11 (Created using Colab)
      "source": [
        "toy_dataset = [\n",
        "    \"The Terminator is a movie that has AI-based robots inside of them\",\n",
        "    \"Harry Potter is all amobut wizards and magic\",\n",
        "    \"In the movie Matrix, AI already has become the most powerfull 'being'\"\n",
        "]"
<<<<<<< HEAD
      ]
    },
    {
      "cell_type": "code",
      "execution_count": 12,
      "metadata": {
        "id": "hLHxQdc7xEKo"
      },
      "outputs": [],
      "source": [
        "toy_embeddings = client.embeddings.create(\n",
        "    model=\"text-embedding-ada-002\",\n",
        "    input=toy_dataset\n",
        ")"
      ]
    },
    {
      "cell_type": "code",
      "execution_count": 52,
      "metadata": {
        "id": "mVC5Wgpfv5g9"
      },
      "outputs": [
        {
          "data": {
            "text/plain": [
              "[array([-0.01302562, -0.05837552, -0.02781391, ..., -0.00498991,\n",
              "        -0.02322578, -0.00096153]),\n",
              " array([-0.00891616, -0.01829717, -0.01042693, ..., -0.00770883,\n",
              "        -0.01108547, -0.01256397]),\n",
              " array([-0.00925156, -0.03758861, -0.0248429 , ..., -0.01757665,\n",
              "        -0.01822519, -0.01736488])]"
            ]
          },
          "execution_count": 52,
          "metadata": {},
          "output_type": "execute_result"
        }
      ],
      "source": [
        "# Creating a numpy list of embeddings for each toy dataset \n",
        "clean_embeddings = [np.array(embedding.embedding) for embedding in toy_embeddings.data]\n",
        "clean_embeddings"
      ]
    },
    {
      "cell_type": "code",
      "execution_count": 63,
      "metadata": {
        "id": "FAZSn68SyPTI"
      },
      "outputs": [],
      "source": [
        "user_request = \"I want to watch a movie with robots and AI\"\n",
        "\n",
        "user_embedding = client.embeddings.create(\n",
        "    model=\"text-embedding-ada-002\",\n",
        "    input=user_request\n",
        ")"
      ]
    },
    {
      "cell_type": "code",
      "execution_count": 64,
      "metadata": {
        "id": "71gs8Rr-ya66"
      },
      "outputs": [
        {
          "data": {
            "text/plain": [
              "[array([-0.01146644, -0.04599711, -0.0143429 , ..., -0.00028198,\n",
              "        -0.0194785 , -0.02117285])]"
            ]
          },
          "execution_count": 64,
          "metadata": {},
          "output_type": "execute_result"
        }
      ],
      "source": [
        "clean_user_embedding = [np.array(user_embedding.data[0].embedding)]\n",
        "clean_user_embedding"
      ]
    },
    {
      "cell_type": "code",
      "execution_count": 65,
      "metadata": {
        "id": "t5_mOlaoi876"
      },
      "outputs": [],
      "source": [
        "from scipy.spatial.distance import cdist, cosine"
      ]
    },
    {
      "cell_type": "code",
      "execution_count": 66,
      "metadata": {
        "id": "hBdfPbNYn1nc"
      },
      "outputs": [
        {
          "data": {
            "text/plain": [
              "0.22190425594462315"
            ]
          },
          "execution_count": 66,
          "metadata": {},
          "output_type": "execute_result"
        }
      ],
      "source": [
        "#Cosine is used to calculate the distance between two vectors\n",
        "cosine(clean_user_embedding[0], clean_embeddings[1])"
      ]
    },
    {
      "cell_type": "code",
      "execution_count": 67,
      "metadata": {
        "id": "9-eZWkP0oKnP"
      },
      "outputs": [
        {
          "data": {
            "text/plain": [
              "array([[0.11558264, 0.22190426, 0.1529737 ]])"
            ]
          },
          "execution_count": 67,
          "metadata": {},
          "output_type": "execute_result"
        }
      ],
      "source": [
        "#cdist is used to calculate the distance between two matrices\n",
        "distance = cdist(clean_user_embedding, clean_embeddings, \"cosine\")\n",
        "distance"
      ]
    },
    {
      "cell_type": "code",
      "execution_count": 68,
      "metadata": {},
      "outputs": [
        {
          "data": {
            "text/plain": [
              "array([[0.88441736, 0.77809574, 0.8470263 ]])"
            ]
          },
          "execution_count": 68,
          "metadata": {},
          "output_type": "execute_result"
        }
      ],
      "source": [
        "similarities = 1 - distance\n",
        "similarities"
      ]
    },
    {
      "cell_type": "markdown",
      "metadata": {
        "id": "NH4nGGFQyvnv"
      },
      "source": [
        "## Recommending most similar vector"
      ]
    },
    {
      "cell_type": "code",
      "execution_count": 69,
      "metadata": {
        "id": "kJ73xZV0yvX0"
      },
      "outputs": [
        {
          "data": {
            "text/plain": [
              "array([[0, 2, 1]], dtype=int64)"
            ]
          },
          "execution_count": 69,
          "metadata": {},
          "output_type": "execute_result"
        }
      ],
      "source": [
        "#Returning a list of indexes based on the max value of similarity\n",
        "similarities_sort = np.argsort(-similarities)\n",
        "similarities_sort"
      ]
    },
    {
      "cell_type": "code",
      "execution_count": 70,
      "metadata": {
        "id": "S7F8O_shpyad"
      },
      "outputs": [
        {
          "data": {
            "text/plain": [
              "['The Terminator is a movie that has AI-based robots inside of them',\n",
              " \"In the movie Matrix, AI already has become the most powerfull 'being'\",\n",
              " 'Harry Potter is all amobut wizards and magic']"
            ]
          },
          "execution_count": 70,
          "metadata": {},
          "output_type": "execute_result"
        }
      ],
      "source": [
        "# returning the movies based on the similarity\n",
        "p_movies = [toy_dataset[i] for i in similarities_sort[0]]\n",
        "p_movies"
      ]
    },
    {
      "cell_type": "markdown",
      "metadata": {
        "id": "9_OjVDWsUe4n"
      },
=======
      ],
      "metadata": {
        "id": "025NzygqwlTL"
      },
      "execution_count": null,
      "outputs": []
    },
    {
      "cell_type": "code",
      "source": [],
      "metadata": {
        "id": "hLHxQdc7xEKo"
      },
      "execution_count": null,
      "outputs": []
    },
    {
      "cell_type": "code",
      "source": [],
      "metadata": {
        "id": "mVC5Wgpfv5g9"
      },
      "execution_count": null,
      "outputs": []
    },
    {
      "cell_type": "code",
      "source": [],
      "metadata": {
        "id": "FAZSn68SyPTI"
      },
      "execution_count": null,
      "outputs": []
    },
    {
      "cell_type": "code",
      "source": [],
      "metadata": {
        "id": "71gs8Rr-ya66"
      },
      "execution_count": null,
      "outputs": []
    },
    {
      "cell_type": "code",
      "source": [],
      "metadata": {
        "id": "t5_mOlaoi876"
      },
      "execution_count": null,
      "outputs": []
    },
    {
      "cell_type": "code",
      "source": [],
      "metadata": {
        "id": "hBdfPbNYn1nc"
      },
      "execution_count": null,
      "outputs": []
    },
    {
      "cell_type": "code",
      "source": [],
      "metadata": {
        "id": "9-eZWkP0oKnP"
      },
      "execution_count": null,
      "outputs": []
    },
    {
      "cell_type": "markdown",
      "source": [
        "## Recommending most similar vector"
      ],
      "metadata": {
        "id": "NH4nGGFQyvnv"
      }
    },
    {
      "cell_type": "code",
      "source": [],
      "metadata": {
        "id": "kJ73xZV0yvX0"
      },
      "execution_count": null,
      "outputs": []
    },
    {
      "cell_type": "code",
      "source": [],
      "metadata": {
        "id": "S7F8O_shpyad"
      },
      "execution_count": null,
      "outputs": []
    },
    {
      "cell_type": "code",
      "source": [],
      "metadata": {
        "id": "lz9ttN1kp-J1"
      },
      "execution_count": null,
      "outputs": []
    },
    {
      "cell_type": "markdown",
>>>>>>> 5ef7e11 (Created using Colab)
      "source": [
        "# 4. Scaling to the big dataset\n",
        "\n",
        "You can download dataset from here: https://www.kaggle.com/datasets/rounakbanik/the-movies-dataset?select=movies_metadata.csv"
<<<<<<< HEAD
      ]
    },
    {
      "cell_type": "code",
      "execution_count": 8,
      "metadata": {
        "id": "XW3sF_EmTbtr"
      },
      "outputs": [
        {
          "name": "stderr",
          "output_type": "stream",
          "text": [
            "C:\\Users\\ricar\\AppData\\Local\\Temp\\ipykernel_12956\\1970980156.py:1: DtypeWarning: Columns (10) have mixed types. Specify dtype option on import or set low_memory=False.\n",
            "  dataset = pd.read_csv(\"files/movies_metadata.csv\")\n"
          ]
        },
        {
          "data": {
            "text/html": [
              "<div>\n",
              "<style scoped>\n",
              "    .dataframe tbody tr th:only-of-type {\n",
              "        vertical-align: middle;\n",
              "    }\n",
              "\n",
              "    .dataframe tbody tr th {\n",
              "        vertical-align: top;\n",
              "    }\n",
              "\n",
              "    .dataframe thead th {\n",
              "        text-align: right;\n",
              "    }\n",
              "</style>\n",
              "<table border=\"1\" class=\"dataframe\">\n",
              "  <thead>\n",
              "    <tr style=\"text-align: right;\">\n",
              "      <th></th>\n",
              "      <th>adult</th>\n",
              "      <th>belongs_to_collection</th>\n",
              "      <th>budget</th>\n",
              "      <th>genres</th>\n",
              "      <th>homepage</th>\n",
              "      <th>id</th>\n",
              "      <th>imdb_id</th>\n",
              "      <th>original_language</th>\n",
              "      <th>original_title</th>\n",
              "      <th>overview</th>\n",
              "      <th>...</th>\n",
              "      <th>release_date</th>\n",
              "      <th>revenue</th>\n",
              "      <th>runtime</th>\n",
              "      <th>spoken_languages</th>\n",
              "      <th>status</th>\n",
              "      <th>tagline</th>\n",
              "      <th>title</th>\n",
              "      <th>video</th>\n",
              "      <th>vote_average</th>\n",
              "      <th>vote_count</th>\n",
              "    </tr>\n",
              "  </thead>\n",
              "  <tbody>\n",
              "    <tr>\n",
              "      <th>0</th>\n",
              "      <td>False</td>\n",
              "      <td>{'id': 10194, 'name': 'Toy Story Collection', ...</td>\n",
              "      <td>30000000</td>\n",
              "      <td>[{'id': 16, 'name': 'Animation'}, {'id': 35, '...</td>\n",
              "      <td>http://toystory.disney.com/toy-story</td>\n",
              "      <td>862</td>\n",
              "      <td>tt0114709</td>\n",
              "      <td>en</td>\n",
              "      <td>Toy Story</td>\n",
              "      <td>Led by Woody, Andy's toys live happily in his ...</td>\n",
              "      <td>...</td>\n",
              "      <td>1995-10-30</td>\n",
              "      <td>373554033.0</td>\n",
              "      <td>81.0</td>\n",
              "      <td>[{'iso_639_1': 'en', 'name': 'English'}]</td>\n",
              "      <td>Released</td>\n",
              "      <td>NaN</td>\n",
              "      <td>Toy Story</td>\n",
              "      <td>False</td>\n",
              "      <td>7.7</td>\n",
              "      <td>5415.0</td>\n",
              "    </tr>\n",
              "  </tbody>\n",
              "</table>\n",
              "<p>1 rows × 24 columns</p>\n",
              "</div>"
            ],
            "text/plain": [
              "   adult                              belongs_to_collection    budget  \\\n",
              "0  False  {'id': 10194, 'name': 'Toy Story Collection', ...  30000000   \n",
              "\n",
              "                                              genres  \\\n",
              "0  [{'id': 16, 'name': 'Animation'}, {'id': 35, '...   \n",
              "\n",
              "                               homepage   id    imdb_id original_language  \\\n",
              "0  http://toystory.disney.com/toy-story  862  tt0114709                en   \n",
              "\n",
              "  original_title                                           overview  ...  \\\n",
              "0      Toy Story  Led by Woody, Andy's toys live happily in his ...  ...   \n",
              "\n",
              "  release_date      revenue runtime                          spoken_languages  \\\n",
              "0   1995-10-30  373554033.0    81.0  [{'iso_639_1': 'en', 'name': 'English'}]   \n",
              "\n",
              "     status  tagline      title  video vote_average vote_count  \n",
              "0  Released      NaN  Toy Story  False          7.7     5415.0  \n",
              "\n",
              "[1 rows x 24 columns]"
            ]
          },
          "execution_count": 8,
          "metadata": {},
          "output_type": "execute_result"
        }
      ],
      "source": [
        "dataset = pd.read_csv(\"files/movies_metadata.csv\")\n",
        "dataset[:1]"
      ]
    },
    {
      "cell_type": "code",
      "execution_count": 9,
      "metadata": {
        "id": "O-PyC5Ju0Ppa"
      },
      "outputs": [
        {
          "name": "stdout",
          "output_type": "stream",
          "text": [
            "11\n"
          ]
        },
        {
          "data": {
            "text/html": [
              "<div>\n",
              "<style scoped>\n",
              "    .dataframe tbody tr th:only-of-type {\n",
              "        vertical-align: middle;\n",
              "    }\n",
              "\n",
              "    .dataframe tbody tr th {\n",
              "        vertical-align: top;\n",
              "    }\n",
              "\n",
              "    .dataframe thead th {\n",
              "        text-align: right;\n",
              "    }\n",
              "</style>\n",
              "<table border=\"1\" class=\"dataframe\">\n",
              "  <thead>\n",
              "    <tr style=\"text-align: right;\">\n",
              "      <th></th>\n",
              "      <th>original_title</th>\n",
              "      <th>overview</th>\n",
              "    </tr>\n",
              "  </thead>\n",
              "  <tbody>\n",
              "    <tr>\n",
              "      <th>0</th>\n",
              "      <td>Toy Story</td>\n",
              "      <td>Led by Woody, Andy's toys live happily in his ...</td>\n",
              "    </tr>\n",
              "    <tr>\n",
              "      <th>1</th>\n",
              "      <td>Jumanji</td>\n",
              "      <td>When siblings Judy and Peter discover an encha...</td>\n",
              "    </tr>\n",
              "    <tr>\n",
              "      <th>2</th>\n",
              "      <td>Grumpier Old Men</td>\n",
              "      <td>A family wedding reignites the ancient feud be...</td>\n",
              "    </tr>\n",
              "  </tbody>\n",
              "</table>\n",
              "</div>"
            ],
            "text/plain": [
              "     original_title                                           overview\n",
              "0         Toy Story  Led by Woody, Andy's toys live happily in his ...\n",
              "1           Jumanji  When siblings Judy and Peter discover an encha...\n",
              "2  Grumpier Old Men  A family wedding reignites the ancient feud be..."
            ]
          },
          "execution_count": 9,
          "metadata": {},
          "output_type": "execute_result"
        }
      ],
      "source": [
        "# getting the first 11 columns of the dataset \"title\" and \"overview\" and removing null data\n",
        "# It will use only 11 movies to save money\n",
        "\n",
        "small_dataset = dataset[[\"original_title\", \"overview\"]].iloc[:11].dropna()\n",
        "print(len(small_dataset))\n",
        "small_dataset[:3]"
      ]
    },
    {
      "cell_type": "code",
      "execution_count": 12,
      "metadata": {},
      "outputs": [
        {
          "name": "stdout",
          "output_type": "stream",
          "text": [
            "<class 'pandas.core.series.Series'>\n",
            "<class 'list'>\n",
            "Led by Woody, Andy's toys live happily in his room until Andy's birthday brings Buzz Lightyear onto the scene. Afraid of losing his place in Andy's heart, Woody plots against Buzz. But when circumstances separate Buzz and Woody from their owner, the duo eventually learns to put aside their differences.\n"
          ]
        }
      ],
      "source": [
        "# Creating a list of overviews\n",
        "overviews = small_dataset[\"overview\"].values.tolist()\n",
        "print(type(small_dataset[\"overview\"]))\n",
        "print(type(overviews))\n",
        "print(overviews[0])"
      ]
    },
    {
      "cell_type": "code",
      "execution_count": 13,
      "metadata": {
        "id": "m2bCFPJHz4v0"
      },
      "outputs": [],
      "source": [
        "movie_embeddings = client.embeddings.create(\n",
        "    model=\"text-embedding-ada-002\",\n",
        "    input=overviews\n",
        ")"
      ]
    },
    {
      "cell_type": "code",
      "execution_count": 14,
      "metadata": {
        "id": "PaLcTFW3yfrd"
      },
      "outputs": [
        {
          "data": {
            "text/plain": [
              "[array([-0.01377819, -0.0452472 , -0.00522654, ...,  0.01202847,\n",
              "        -0.01093732, -0.02124191]),\n",
              " array([ 0.01769752, -0.0354993 , -0.01597729, ..., -0.0155733 ,\n",
              "        -0.00086419, -0.01145517]),\n",
              " array([ 0.01031746, -0.00731191, -0.00286349, ..., -0.01697896,\n",
              "        -0.01919718, -0.0169105 ]),\n",
              " array([-0.01736953, -0.03387329,  0.02407925, ..., -0.00362542,\n",
              "         0.01014575,  0.00148635]),\n",
              " array([-0.01177083, -0.01029294,  0.00207951, ..., -0.01226782,\n",
              "        -0.0019242 , -0.01781319]),\n",
              " array([-0.00769674, -0.02563796,  0.01162869, ..., -0.02177287,\n",
              "        -0.00551343, -0.00910769]),\n",
              " array([-0.01890965, -0.04986584,  0.0182404 , ..., -0.01195468,\n",
              "        -0.0063743 , -0.00890368]),\n",
              " array([ 0.00558037, -0.02569643, -0.00474315, ..., -0.01265927,\n",
              "        -0.01246381, -0.00339774]),\n",
              " array([-0.01055031, -0.04461653, -0.0006822 , ..., -0.00099199,\n",
              "        -0.00623729,  0.0094621 ]),\n",
              " array([-0.02337726, -0.016143  , -0.02172895, ..., -0.01623457,\n",
              "        -0.01564589,  0.01305568]),\n",
              " array([-0.02954347, -0.00812651,  0.00215335, ..., -0.01714454,\n",
              "         0.00144186,  0.00834596])]"
            ]
          },
          "execution_count": 14,
          "metadata": {},
          "output_type": "execute_result"
        }
      ],
      "source": [
        "clean_movie_embeddings = [np.array(embedding.embedding) for embedding in movie_embeddings.data]\n",
        "clean_movie_embeddings"
      ]
    },
    {
      "cell_type": "code",
      "execution_count": 97,
      "metadata": {
        "id": "3osSsmQU0XVK"
      },
      "outputs": [],
      "source": [
        "user_request = \"I want to watch a movie with  a story of toys\"\n",
        "\n",
        "user_embedding = client.embeddings.create(\n",
        "    model=\"text-embedding-ada-002\",\n",
        "    input=user_request\n",
        ")"
      ]
    },
    {
      "cell_type": "code",
      "execution_count": 98,
      "metadata": {
        "id": "QZJa7hj41VXi"
      },
      "outputs": [
        {
          "data": {
            "text/plain": [
              "[array([-0.02200487, -0.03257085, -0.02071506, ...,  0.02111894,\n",
              "        -0.00248353, -0.04343649])]"
            ]
          },
          "execution_count": 98,
          "metadata": {},
          "output_type": "execute_result"
        }
      ],
      "source": [
        "clean_user_embedding = [np.array(user_embedding.data[0].embedding)]\n",
        "clean_user_embedding"
      ]
    },
    {
      "cell_type": "code",
      "execution_count": 99,
      "metadata": {
        "id": "T2_HgzMx0yJr"
      },
      "outputs": [
        {
          "data": {
            "text/plain": [
              "array([[0.17127828, 0.19117639, 0.24448397, 0.23925632, 0.25800919,\n",
              "        0.24205028, 0.22983023, 0.24821834, 0.22956739, 0.25328831,\n",
              "        0.26861633]])"
            ]
          },
          "execution_count": 99,
          "metadata": {},
          "output_type": "execute_result"
        }
      ],
      "source": [
        "distance = cdist(clean_user_embedding, clean_movie_embeddings, \"cosine\")\n",
        "distance"
      ]
    },
    {
      "cell_type": "code",
      "execution_count": 100,
      "metadata": {
        "id": "fI4Urr9W1mMV"
      },
      "outputs": [
        {
          "data": {
            "text/plain": [
              "array([[0.82872172, 0.80882361, 0.75551603, 0.76074368, 0.74199081,\n",
              "        0.75794972, 0.77016977, 0.75178166, 0.77043261, 0.74671169,\n",
              "        0.73138367]])"
            ]
          },
          "execution_count": 100,
          "metadata": {},
          "output_type": "execute_result"
        }
      ],
      "source": [
        "similarities = 1 - distance\n",
        "similarities"
      ]
    },
    {
      "cell_type": "code",
      "execution_count": 102,
      "metadata": {
        "id": "9VJk56Pq1sk9"
      },
      "outputs": [
        {
          "data": {
            "text/plain": [
              "array([[ 0,  1,  8,  6,  3,  5,  2,  7,  9,  4, 10]], dtype=int64)"
            ]
          },
          "execution_count": 102,
          "metadata": {},
          "output_type": "execute_result"
        }
      ],
      "source": [
        "similarities_sort = np.argsort(-similarities)\n",
        "similarities_sort"
=======
      ],
      "metadata": {
        "id": "9_OjVDWsUe4n"
      }
    },
    {
      "cell_type": "code",
      "source": [],
      "metadata": {
        "id": "XW3sF_EmTbtr"
      },
      "execution_count": null,
      "outputs": []
    },
    {
      "cell_type": "code",
      "source": [],
      "metadata": {
        "id": "O-PyC5Ju0Ppa"
      },
      "execution_count": null,
      "outputs": []
    },
    {
      "cell_type": "code",
      "source": [],
      "metadata": {
        "id": "m2bCFPJHz4v0"
      },
      "execution_count": null,
      "outputs": []
    },
    {
      "cell_type": "code",
      "source": [],
      "metadata": {
        "id": "PaLcTFW3yfrd"
      },
      "execution_count": null,
      "outputs": []
    },
    {
      "cell_type": "code",
      "source": [
        "# Using only 100 movies for recommendation system to peresven money for API :)"
      ],
      "metadata": {
        "id": "3osSsmQU0XVK"
      },
      "execution_count": null,
      "outputs": []
    },
    {
      "cell_type": "code",
      "source": [
        "# Drop missing values"
      ],
      "metadata": {
        "id": "QZJa7hj41VXi"
      },
      "execution_count": null,
      "outputs": []
    },
    {
      "cell_type": "code",
      "source": [],
      "metadata": {
        "id": "T2_HgzMx0yJr"
      },
      "execution_count": null,
      "outputs": []
    },
    {
      "cell_type": "code",
      "source": [],
      "metadata": {
        "id": "fI4Urr9W1mMV"
      },
      "execution_count": null,
      "outputs": []
    },
    {
      "cell_type": "code",
      "source": [],
      "metadata": {
        "id": "9VJk56Pq1sk9"
      },
      "execution_count": null,
      "outputs": []
    },
    {
      "cell_type": "code",
      "source": [],
      "metadata": {
        "id": "TBjrlMc61si-",
        "colab": {
          "base_uri": "https://localhost:8080/"
        },
        "outputId": "d0250e38-ff2f-4ece-880f-b6c6e6117947"
      },
      "execution_count": null,
      "outputs": [
        {
          "name": "stdout",
          "output_type": "stream",
          "text": [
            "Enter movie description: toy based movie\n"
          ]
        }
>>>>>>> 5ef7e11 (Created using Colab)
      ]
    },
    {
      "cell_type": "code",
<<<<<<< HEAD
      "execution_count": 110,
      "metadata": {
        "colab": {
          "base_uri": "https://localhost:8080/"
        },
        "id": "TBjrlMc61si-",
        "outputId": "d0250e38-ff2f-4ece-880f-b6c6e6117947"
      },
      "outputs": [
        {
          "data": {
            "text/plain": [
              "['Toy Story',\n",
              " 'Jumanji',\n",
              " 'Sudden Death',\n",
              " 'Sabrina',\n",
              " 'Waiting to Exhale',\n",
              " 'Heat',\n",
              " 'Grumpier Old Men',\n",
              " 'Tom and Huck',\n",
              " 'GoldenEye',\n",
              " 'Father of the Bride Part II',\n",
              " 'The American President']"
            ]
          },
          "execution_count": 110,
          "metadata": {},
          "output_type": "execute_result"
        }
      ],
      "source": [
        "best_movies = [movie for movie in small_dataset[\"original_title\"].iloc[similarities_sort[0]]]\n",
        "best_movies"
      ]
    },
    {
      "cell_type": "markdown",
      "metadata": {
        "id": "gdGX-w1CVxGx"
      },
=======
      "source": [],
      "metadata": {
        "id": "NFcQgX81tVcm"
      },
      "execution_count": null,
      "outputs": []
    },
    {
      "cell_type": "code",
      "source": [],
      "metadata": {
        "id": "76udtEePtqFq"
      },
      "execution_count": null,
      "outputs": []
    },
    {
      "cell_type": "markdown",
>>>>>>> 5ef7e11 (Created using Colab)
      "source": [
        "### 5. Building movie recommender with Pinecone\n",
        "\n",
        "\n",
        "Pinecone website: https://www.pinecone.io/"
<<<<<<< HEAD
      ]
    },
    {
      "cell_type": "markdown",
      "metadata": {},
      "source": [
        "Pinecone is a platform designed to work with vectors, especially in machine learning and artificial intelligence applications. Here are some of the main uses of Pinecone for vectors:\n",
        "\n",
        "1. **Vector Storage**: Pinecone provides efficient and scalable storage for large volumes of vectors. This is particularly useful in applications dealing with high-dimensional data.\n",
        "\n",
        "2. **Vector Search**: Pinecone allows for fast and accurate searches in large sets of vectors. This is essential in applications such as information retrieval, product recommendation, and image search.\n",
        "\n",
        "3. **Integration with Machine Learning Models**: Pinecone can be integrated with machine learning models to store and search embeddings generated by these models. This facilitates the creation of recommendation systems and semantic analysis.\n",
        "\n",
        "4. **Scalability**: The platform is designed to automatically scale, allowing users to handle sudden increases in data without losing performance.\n",
        "\n",
        "5. **Simple APIs**: Pinecone offers easy-to-use APIs for developers, making integration and implementation faster and more efficient.\n",
        "\n",
        "6. **Deduplication and Classification**: Pinecone can be used for deduplication tasks (finding similar vectors and removing duplicates) and data classification based on vector similarity.\n"
      ]
    },
    {
      "cell_type": "code",
      "execution_count": null,
      "metadata": {
        "id": "CigMCuH_2-6P"
      },
      "outputs": [],
      "source": [
        "!pip install pinecone-client"
      ]
    },
    {
      "cell_type": "code",
      "execution_count": 5,
      "metadata": {
        "id": "SFhM14-NVUqJ"
      },
      "outputs": [],
      "source": [
        "from pinecone import Pinecone\n",
        "\n",
        "pc = Pinecone(api_key=os.getenv('PINECODE_API_KEY'))\n",
        "\n",
        "# getting the index by name in pinecode\n",
        "index = pc.Index(\"movies\")"
      ]
    },
    {
      "cell_type": "code",
      "execution_count": 15,
      "metadata": {
        "id": "oZB3R8y8V_jg"
      },
      "outputs": [
        {
          "ename": "",
          "evalue": "",
          "output_type": "error",
          "traceback": [
            "\u001b[1;31mThe Kernel crashed while executing code in the current cell or a previous cell. \n",
            "\u001b[1;31mPlease review the code in the cell(s) to identify a possible cause of the failure. \n",
            "\u001b[1;31mClick <a href='https://aka.ms/vscodeJupyterKernelCrash'>here</a> for more info. \n",
            "\u001b[1;31mView Jupyter <a href='command:jupyter.viewOutput'>log</a> for further details."
          ]
        }
      ],
      "source": [
        "# uploading the index to pinecode, in vectors you need to inform the id, the vector and the metadata this is optional\n",
        "for i in range(len(small_dataset)):\n",
        "    upload_stats = index.upsert(\n",
        "        vectors=[\n",
        "            (\n",
        "                str(i),\n",
        "                clean_movie_embeddings[0].tolist(),\n",
        "                {\n",
        "                    \"title\": small_dataset[\"original_title\"].iloc[i],\n",
        "                    \"overview\": small_dataset[\"overview\"].iloc[i]\n",
        "                }\n",
        "            )\n",
        "        ]\n",
        "    )"
      ]
    },
    {
      "cell_type": "code",
      "execution_count": 143,
      "metadata": {},
      "outputs": [
        {
          "data": {
            "text/plain": [
              "CreateEmbeddingResponse(data=[Embedding(embedding=[-0.03076019510626793, -0.0289431381970644, -0.013835598714649677, -0.013783682137727737, -0.014004325494170189, 0.008656983263790607, 0.0022210287861526012, -0.006418108474463224, -0.006064430810511112, -0.0082221869379282, 0.015782445669174194, 0.015302224084734917, 0.05142274126410484, -0.027749070897698402, 0.004500463139265776, -0.0006043339963071048, 0.025023484602570534, 0.0024173359852284193, 0.01717119850218296, -0.02294684574007988, -0.009526574984192848, -0.0004481805954128504, -0.0008971723727881908, -0.03166872262954712, 0.019637204706668854, -0.03891099989414215, 0.00970179121941328, -0.021298514679074287, 0.005279202479869127, -0.005593942478299141, 0.030241036787629128, -0.018611865118145943, 0.005970333237200975, -0.018209517002105713, -0.012213225476443768, -0.022700244560837746, 0.012252162210643291, -0.005772403907030821, 0.021674904972314835, -0.016898639500141144, -0.019637204706668854, 0.0197929535061121, -0.015535845421254635, -0.03545858711004257, -0.0024351822212338448, 0.010882879607379436, 0.002156133996322751, -0.0065641216933727264, -0.000627858389634639, -0.0045653581619262695, 0.007651112042367458, 0.012349504977464676, -0.03320024535059929, -0.027878860011696815, 0.012706426903605461, 0.01340729184448719, -0.004588071256875992, 0.004390141926705837, 0.024724967777729034, -0.013030901551246643, 0.011337143369019032, -0.0014163317391648889, -0.004782756324857473, -0.0005280824843794107, -0.018352285027503967, 0.0037444373592734337, -0.0018576172878965735, -0.01907910779118538, 0.010246909223496914, -0.004627008456736803, 0.027437575161457062, 0.022830035537481308, 0.005730221979320049, 0.007540790364146233, 0.024050060659646988, -0.014302842319011688, -0.0017602748703211546, 0.022375769913196564, 0.0028878243174403906, 0.01575648784637451, 0.007644622586667538, -0.014692211523652077, -0.004974196199327707, -0.0012167799286544323, 0.0129465376958251, 0.034082815051078796, 0.005233775824308395, 0.02346600592136383, -0.03135722875595093, -0.001408219919539988, 0.007696538232266903, 0.007508343085646629, 0.008514214307069778, 0.0022891685366630554, 0.018456116318702698, 0.02761928178369999, -0.027800986543297768, 0.02072743885219097, -0.001352248014882207, -0.0037411926314234734, 0.005013132933527231, -0.009046352468430996, -0.016431394964456558, -0.006937267724424601, -0.003246368607506156, 0.016898639500141144, 0.015211370773613453, 0.002310259500518441, 0.015782445669174194, -0.00677503040060401, -0.006943757180124521, 0.006184486672282219, 0.031097648665308952, -0.05689987167716026, -0.017508652061223984, -0.02489369362592697, -0.011648639105260372, 0.013316439464688301, -0.0010164168197661638, -0.0247768834233284, 0.03403089940547943, 0.018949318677186966, 0.012972495518624783, -0.009721260517835617, 0.021194683387875557, -0.0031279355753213167, -0.003776884637773037, -0.008702409453690052, -0.013011433184146881, -0.01573053002357483, 0.04376513883471489, 0.00751483254134655, -0.0013765835901722312, -0.024322617799043655, -0.05176019296050072, 0.031954262405633926, -0.01462731696665287, 0.035588376224040985, -0.013420270755887032, 0.0041435412131249905, 0.002003630856052041, 0.007307168561965227, 0.0019728057086467743, -0.01819653809070587, -0.030422741547226906, 0.008553151041269302, 0.004597805440425873, -0.00807941798120737, 0.014406673610210419, -0.005402502603828907, 0.0188974030315876, -0.0009434099774807692, -0.0010740110883489251, 0.012297588400542736, 0.014406673610210419, 0.036496907472610474, 0.011486401781439781, -0.010422125458717346, -0.014601358212530613, -0.0023735319264233112, 0.0030338377691805363, -0.007982076145708561, 0.0016613100888207555, -0.01950741559267044, 0.011032138019800186, 0.026658836752176285, 0.012881643138825893, 0.0035562419798225164, 0.0009498994913883507, 0.000963689642958343, -0.01565265655517578, 0.028164397925138474, -0.026451172307133675, 0.015444993041455746, -0.019429540261626244, 0.0053311181254684925, 0.012297588400542736, 0.02092212438583374, -0.02212917059659958, -0.011032138019800186, 0.007612174842506647, 0.007105994503945112, 0.020792335271835327, 0.019429540261626244, -0.01868973858654499, 0.0063532134518027306, -0.004740574397146702, -0.012505252845585346, 0.009377316571772099, -0.004471260588616133, -0.0007418301538564265, 0.004688658285886049, 0.005402502603828907, -0.03086402639746666, -0.658294141292572, -0.013614955358207226, -0.002186959143728018, -0.015821382403373718, 0.014977749437093735, 0.025334980338811874, 0.007067057769745588, 0.0029170268680900335, -0.010474041104316711, 0.0050066434778273106, -0.03486155346035957, 0.020065510645508766, 0.02427070215344429, -0.011603212915360928, -0.010993200354278088, 0.0025811956729739904, 0.01981891132891178, -0.04218170419335365, 0.0009255639160983264, -0.002564972033724189, -0.030033372342586517, 0.03836588189005852, -0.018430158495903015, -0.01310228556394577, 0.01685970276594162, -0.009202100336551666, 0.0015753243351355195, -0.013283991254866123, -0.006531674414873123, 0.01284270640462637, 0.002263210481032729, 0.013459207490086555, 0.014406673610210419, 0.013524102978408337, 0.043116189539432526, -0.005363565869629383, -0.005172125529497862, 0.04586773365736008, 0.03584795817732811, 0.02029913291335106, -0.021973421797156334, 0.01340729184448719, 0.006431087385863066, 0.008008033968508244, -0.002326483139768243, 0.014289862476289272, 0.016197774559259415, 0.011259269900619984, -0.01046755164861679, 0.004711371846497059, 0.008358466438949108, -0.0011145704193040729, -0.005162391345947981, -0.005704264156520367, 0.02793077565729618, 0.008475277572870255, 0.03343386575579643, -0.0007617042283527553, 0.01858590729534626, -0.005535537376999855, -0.004951483104377985, -0.0035465077962726355, -0.012764832004904747, 0.023686649277806282, -0.008845178410410881, 0.026970332488417625, -0.015444993041455746, -0.0027580345049500465, -0.019053149968385696, -0.04864523559808731, 0.0339270681142807, 0.011797897517681122, -0.029280591756105423, 0.0013384579215198755, -0.016509270295500755, 0.0233621746301651, 0.03239554911851883, -0.010240419767796993, -0.01316069159656763, 0.020169343799352646, 0.022972803562879562, -0.0018722186796367168, -0.0008833822212181985, -0.0034524102229624987, 0.03800246864557266, 0.0034167179837822914, -0.006048207171261311, 0.007904201745986938, 0.0047178613021969795, 0.01878059096634388, -0.0034199627116322517, 0.01705438643693924, -0.01061032060533762, -0.015535845421254635, -0.002345951506868005, 0.0016840233001857996, -0.005567984655499458, 0.007125462871044874, 0.008416872471570969, -0.03727564588189125, -0.012920579873025417, -0.01168757677078247, -0.023401111364364624, 0.008936031721532345, 0.012959516607224941, 0.002459517680108547, 0.006002780515700579, 0.010259888134896755, 0.03595178946852684, -0.021973421797156334, 0.004789245780557394, -0.0012224582023918629, 0.0036990109365433455, -0.019559331238269806, 0.025932012125849724, -0.026334362104535103, 0.013900493271648884, -0.002470874460414052, 0.012368973344564438, 0.00989647675305605, -0.005129944067448378, 0.00647326884791255, -0.006479758303612471, -0.0013611711328849196, -0.0006818023393861949, 0.012745363637804985, -0.008864646777510643, -0.009046352468430996, -0.004808714147657156, -0.0017164708115160465, -0.0035822000354528427, -0.017443755641579628, -0.0027450553607195616, -0.010013286955654621, -0.004150030668824911, -0.0021820918191224337, 0.012018540874123573, -0.007008652202785015, 0.015042643994092941, -0.007651112042367458, -0.03301854059100151, -0.0013376467395573854, -0.00019762532610911876, 0.012355994433164597, -0.013485166244208813, -0.01961124688386917, -0.015120518393814564, -0.010318293236196041, -0.00561016658321023, 0.0038709824439138174, -0.03353769704699516, 0.0032658372074365616, 0.004104604013264179, 0.0066582197323441505, -0.009922434575855732, 0.009941902942955494, -0.0007491307915188372, -0.00883219949901104, -0.002978677162900567, -0.004159764852374792, 0.014822001568973064, 0.0006290752207860351, -0.010143077000975609, 0.001310877501964569, 0.013900493271648884, -0.029202716425061226, 0.0048800986260175705, 0.022583434358239174, -0.027852902188897133, -0.011765450239181519, -0.01137608103454113, -0.021765759214758873, -0.010681704618036747, 0.025023484602570534, -0.0005422782269306481, 0.022427687421441078, -0.0012816748348996043, -0.022505560889840126, 0.025750307366251945, -0.0006319143576547503, -0.0022567210253328085, 0.005973577965050936, -0.017521630972623825, 0.027593322098255157, 0.03382323682308197, 0.0036146475467830896, 0.0031863409094512463, 0.02192150615155697, -0.02710012160241604, 0.025244126096367836, 0.008637514896690845, 0.017547588795423508, -0.005285691935569048, 0.0010675215162336826, -0.007988565601408482, -0.004656211007386446, 0.005801606457680464, 0.018209517002105713, 0.025516685098409653, 0.03151297569274902, 0.020948082208633423, -0.007767922710627317, 0.020999997854232788, -0.027904817834496498, -0.00012441574654076248, -0.030526572838425636, 0.011999071575701237, -0.01817058026790619, 0.028605684638023376, 0.020389985293149948, 0.009202100336551666, -0.01879357174038887, 0.009922434575855732, -0.009422743692994118, 0.015964152291417122, 0.017223114147782326, -0.00858559925109148, 0.028969096019864082, -0.03322620317339897, 0.0009993818821385503, -0.009357848204672337, -0.007521321997046471, 0.01696353405714035, 0.010026265867054462, -0.019935721531510353, -0.0036016684025526047, 0.017339924350380898, 0.005746445618569851, 0.01837824285030365, -0.014549442566931248, -0.0306563638150692, 0.0011518849059939384, -0.013588997535407543, 0.009877007454633713, -0.026035845279693604, -0.00827410351485014, 0.014847959391772747, 0.004685413558036089, 0.040053147822618484, 0.011700555682182312, 0.011544807814061642, 0.037509266287088394, 0.014964770525693893, 0.004607539623975754, -0.007021631114184856, 0.006109857466071844, 0.00938380602747202, 0.006645240355283022, -0.018313348293304443, 0.010246909223496914, -0.023907290771603584, -0.021285535767674446, -0.017716314643621445, 0.009312422014772892, -0.014666253700852394, -0.0018965542549267411, -0.01016254536807537, 0.007495364174246788, 0.030344868078827858, 0.03026699461042881, -0.007346105761826038, 0.001451212796382606, 0.006327255163341761, 0.01163566019386053, 0.0023345949593931437, -0.0009864028543233871, -0.003877471899613738, -0.011713534593582153, -0.01583436131477356, -0.0072812107391655445, 0.019040171056985855, 0.013368355110287666, 0.00827410351485014, -0.009507106617093086, -0.007534300908446312, -0.009104758501052856, 0.009740728884935379, 0.00530516030266881, -0.008046970702707767, 0.011045116931200027, 0.015315202996134758, -0.04384301230311394, 0.015263286419212818, -0.0036990109365433455, -0.000146114980452694, -0.011953645385801792, -0.028787389397621155, -0.021597031503915787, -0.02943633869290352, 0.0031100893393158913, -0.011207354255020618, 0.0042700860649347305, 0.022168107330799103, 0.014134115539491177, -0.010428614914417267, 0.00852719321846962, 0.01431582123041153, -0.01563967764377594, 0.01101915817707777, 0.03107169084250927, -0.0002350413124077022, 0.011960134841501713, -0.026022866368293762, -0.028761431574821472, 0.006174752488732338, 0.004743819124996662, 0.012511742301285267, -0.014445610344409943, -0.01401730440557003, -0.02203831635415554, 0.0047081271186470985, -0.009013905189931393, -0.01675586961209774, -0.029695918783545494, -0.015133497305214405, -0.016509270295500755, -0.019247835502028465, 0.008624535985291004, 0.02811248227953911, 0.007015141658484936, 0.005097496323287487, -0.0068204570561647415, -0.006233157590031624, 0.011901729740202427, 0.11400740593671799, 0.01534116081893444, 0.010577873326838017, 0.008721877820789814, -0.02641223557293415, 0.0011421507224440575, -0.02072743885219097, -0.022596413269639015, 0.007690048776566982, 0.0005146978655830026, 0.012304077856242657, -0.0061033680103719234, 0.027255868539214134, -0.004620519001036882, -0.0048898328095674515, -3.832856600638479e-05, 0.0012102903565391898, 0.018209517002105713, 0.026152655482292175, -0.007696538232266903, -0.00852719321846962, 0.019014213234186172, 0.017729293555021286, -0.0033842704724520445, 0.01116841658949852, -0.024815820157527924, 0.0167428907006979, 0.03891099989414215, -0.02733374387025833, -0.031954262405633926, -0.021467242389917374, -0.024322617799043655, -0.013498145155608654, 0.00487685389816761, -0.00573346670717001, -0.009533064439892769, -0.0012151575647294521, 0.04205191135406494, 0.02954016998410225, 0.006187731400132179, 0.006440821569412947, 0.0223238542675972, 0.006330500356853008, -0.02029913291335106, -0.00194847013335675, -0.0039715697057545185, 0.00205716909840703, 0.007722496520727873, 0.01269993744790554, -0.026425214484333992, 0.04807416349649429, -0.004081890918314457, -0.014199010096490383, 0.006466779392212629, 0.020441902801394463, -0.021648947149515152, -0.0034102285280823708, -0.0051786149851977825, 0.0097472183406353, 0.011415017768740654, 0.005357076413929462, -0.015276266261935234, 0.004669189918786287, -0.003948856145143509, -0.0032658372074365616, -0.050825707614421844, -0.002446538768708706, -0.008196229115128517, 0.0051948390901088715, -0.012044498696923256, -0.009617428295314312, 0.002183714183047414, -0.023011740297079086, -0.0025065664667636156, -0.0026688037905842066, -0.011259269900619984, 0.01797589473426342, -0.01254418957978487, 0.011739492416381836, 0.02437453530728817, -0.027359701693058014, -0.010727131739258766, 0.01848207600414753, -0.030137203633785248, 0.0005507956957444549, 0.02020828053355217, -0.006898330524563789, 0.006768540944904089, -0.027463532984256744, 0.014951791614294052, 0.02985166572034359, 0.013770703226327896, 0.021700862795114517, -0.0357181690633297, 0.026477130129933357, 0.015964152291417122, 0.009559023194015026, 0.027437575161457062, -0.004163009580224752, -0.008871136233210564, 0.003194452729076147, -0.01269993744790554, -0.010240419767796993, 0.00021395046496763825, -0.0007726552430540323, 0.006090389098972082, -0.016937576234340668, 0.008144313469529152, -0.005791872274130583, -0.010584362782537937, 0.009915945120155811, -0.003867737716063857, -0.012472804635763168, 0.004854140337556601, 0.010104140266776085, 0.02092212438583374, -0.014497526921331882, 0.036003705114126205, 0.015782445669174194, -0.02446538768708706, 0.010344251058995724, -0.041091468185186386, 0.016496289521455765, 0.008553151041269302, -0.01900123432278633, -0.0005122643196955323, 0.001984162488952279, -0.029721876606345177, 0.005486865993589163, 0.004516686778515577, -0.0036990109365433455, 0.017326945438981056, -0.014354757964611053, -0.0005495789228007197, -0.023193446919322014, -0.014445610344409943, 0.003139292122796178, -0.0034199627116322517, 0.0030500616412609816, -0.01656118594110012, -0.020987018942832947, 6.144738290458918e-05, 0.01146693341434002, -0.021285535767674446, 0.022518539801239967, -0.022414708510041237, -0.015055622905492783, 0.004886588081717491, -0.010227440856397152, 0.023414090275764465, -0.009364337660372257, 0.03236959129571915, -0.02154511585831642, -0.0007990187732502818, 0.018417179584503174, -0.027541406452655792, -0.014549442566931248, -0.008105376735329628, 0.04101359471678734, 0.014964770525693893, 0.0647391825914383, -0.002070148242637515, 0.017223114147782326, -0.007696538232266903, -0.0070021627470850945, 0.005535537376999855, 0.01563967764377594, 0.015613719820976257, -0.02184363268315792, 0.023738564923405647, 0.010194992646574974, 0.0005868934676982462, 0.027593322098255157, 0.012154819443821907, 0.0007969908183440566, 0.003174984361976385, 0.02020828053355217, -0.0010358853032812476, 0.0038482691161334515, 0.004364183638244867, -0.010026265867054462, 0.016626080498099327, 0.0011786541435867548, -0.004607539623975754, 0.00020533159840852022, 0.010019776411354542, 0.02151915803551674, 0.015964152291417122, 0.0074045113287866116, -0.001961449161171913, 0.031538933515548706, -0.021882569417357445, 0.018027810379862785, -0.02385537512600422, 0.015302224084734917, -0.009208589792251587, -0.014224967919290066, -0.008008033968508244, 0.009630407206714153, 0.00383204547688365, 0.034082815051078796, -0.010850431397557259, -0.012823238037526608, 0.013394312933087349, 0.003032215405255556, 0.05199381709098816, 0.01666501723229885, 0.00706056784838438, -0.015081580728292465, -0.017742272466421127, -0.020065510645508766, -0.05456365644931793, -0.008799752220511436, -0.019247835502028465, 0.007190357893705368, -0.0034491652622818947, -0.0048898328095674515, 0.0038936955388635397, -0.006440821569412947, -0.027982693165540695, 0.00044777500443160534, -0.011668107472360134, 0.03299257904291153, 0.013913472183048725, 0.014393694698810577, 0.022713225334882736, -0.024517303332686424, -0.02416687086224556, 0.020065510645508766, -0.019624225795269012, 0.007021631114184856, 0.014484548009932041, 0.017417797818779945, -0.01605500467121601, -0.016327563673257828, 0.001925756921991706, -0.006872372701764107, -0.036496907472610474, -0.03384919464588165, -0.0060774097219109535, -0.0010293957311660051, 0.0005345719400793314, -0.017210135236382484, 0.027567364275455475, -0.012284609489142895, 0.023024719208478928, -0.028995053842663765, -0.0005945997545495629, -0.014134115539491177, -0.024101976305246353, -0.013978367671370506, -0.00019924770458601415, 0.0013506256509572268, 0.021207662299275398, 0.007995055057108402, -0.013926451094448566, 0.02263535000383854, -0.015003707259893417, -0.009169653058052063, 0.005918417125940323, -0.021051913499832153, 0.03135722875595093, -0.015574782155454159, 0.0185988862067461, 0.018741654232144356, 0.002112329937517643, -0.003209054237231612, -0.015873299911618233, 0.015406055375933647, 0.027463532984256744, -0.008637514896690845, -0.0029283836483955383, 0.0020928613375872374, 0.0017051142640411854, -0.01605500467121601, -0.004503707867115736, -0.013082817196846008, -0.0283461045473814, -0.017612483352422714, -0.008754326030611992, 0.019922742620110512, 0.0061033680103719234, 0.016327563673257828, -0.03257725387811661, -0.02712607942521572, 9.612560825189576e-05, -0.001808946137316525, -0.011492891237139702, 0.01300494372844696, -0.026788625866174698, -0.0194944366812706, -0.020740417763590813, 0.013796661049127579, 0.021869590505957603, -0.016184795647859573, 0.0019403583137318492, 0.027593322098255157, 0.032447464764118195, -0.013316439464688301, -0.008598578162491322, -0.019533373415470123, -0.004377163015305996, -0.02761928178369999, -0.016067983582615852, 0.018118662759661674, -0.003355067688971758, 0.013277501799166203, -0.01014956645667553, -0.007865265011787415, 0.006148794200271368, 0.005191594362258911, -0.0031571381259709597, -0.004588071256875992, -0.010720642283558846, -0.014614337123930454, 0.01724907197058201, -0.012180778197944164, -0.01685970276594162, -0.011797897517681122, 0.003355067688971758, 0.0026168879121541977, -0.006671198643743992, 0.020766377449035645, 0.0005292992573231459, 0.013472186401486397, -0.03270704299211502, -0.004802224691957235, -0.01432880014181137, -0.010779047384858131, 0.021363409236073494, -0.013199628330767155, 0.013731766492128372, 0.00031149564892984927, -0.012966006062924862, -0.027800986543297768, 0.0022242735140025616, 0.0019338688580319285, 0.024024102836847305, -0.0005682362243533134, -0.008416872471570969, 0.009630407206714153, 0.03338195011019707, 0.023076636716723442, 0.02293386682868004, -0.0014982615830376744, -0.013939430005848408, -0.004828182514756918, -0.0261915922164917, -0.026438193395733833, -0.01959826797246933, -0.005895704030990601, 0.036808401346206665, -0.0018641067435964942, -0.008773794397711754, -0.011642149649560452, 0.005126699339598417, -0.02630840428173542, 0.006852904334664345, -0.00955253280699253, 0.014847959391772747, 0.044336214661598206, -0.023491963744163513, -0.016093941405415535, 0.026139676570892334, -0.00837793480604887, -0.007956118322908878, 0.003575710579752922, 0.006421353202313185, 0.0017180931754410267, -0.024037081748247147, 0.017443755641579628, 0.010370208881795406, -0.02691841498017311, -0.016626080498099327, 0.029384423047304153, 0.006453800480812788, 0.0013660382246598601, 0.024244744330644608, -0.002600664272904396, 0.004020240623503923, -0.04794437065720558, -0.010642767883837223, 0.0008760815253481269, -0.011032138019800186, 0.009013905189931393, -0.028553767129778862, -0.027385659515857697, -0.006852904334664345, 0.0009288086439482868, -0.004081890918314457, -0.02144128456711769, 0.010538936592638493, -0.009338379837572575, -0.009805623441934586, -0.02722991071641445, -0.00530840503051877, -0.020377006381750107, -0.008961989544332027, 0.008462298661470413, -0.008300061337649822, 0.014004325494170189, 0.0019874072168022394, -0.0006144738290458918, -0.023115573450922966, -0.016288626939058304, 0.0006976204458624125, 0.013822619803249836, 0.006664709188044071, -0.003945611417293549, -0.012907600961625576, 0.013069838285446167, -0.0033745362889021635, 0.0034361863508820534, -0.013381334021687508, 0.0035692208912223577, -0.019416561350226402, 0.030526572838425636, -0.030422741547226906, 0.021661926060914993, -0.028553767129778862, -0.03805438429117203, -0.0019030437106266618, 0.011856303550302982, -0.0015761355170980096, -0.013485166244208813, -0.004773021675646305, 0.013316439464688301, -0.03371940553188324, 0.0039553456008434296, -0.005201328545808792, -0.028787389397621155, -8.69490613695234e-05, 0.005567984655499458, 0.0068139671348035336, -0.019325708970427513, 0.025062421336770058, 0.2442125827074051, -0.017015449702739716, 0.004591315984725952, 0.04090976342558861, 0.0050520701333880424, 0.009935413487255573, 0.025854138657450676, -0.015133497305214405, -0.01724907197058201, 0.017132259905338287, -0.007722496520727873, 0.011616191826760769, 0.01839122176170349, -0.0028651109896600246, -0.02273918315768242, -0.036912232637405396, -0.018832508474588394, -0.03673052787780762, -0.04906056448817253, -0.017911000177264214, 0.012440357357263565, -0.010233930312097073, 0.006616037804633379, -0.029592087492346764, 0.002491965191438794, -0.015808403491973877, 0.00041066319681704044, -0.013446228578686714, 0.006762051489204168, 0.02337515354156494, -0.006645240355283022, -0.007229295093566179, 0.006885351613163948, -0.02356983721256256, -0.016677996143698692, -0.0039813038893043995, -0.000823354406747967, -0.007599195931106806, 0.019870826974511147, -0.010487020015716553, 0.0016296738758683205, 0.0031376697588711977, -0.003053306369110942, -0.0036665634252130985, 0.005094251595437527, 0.01726205088198185, -0.03522496670484543, 0.0032561030238866806, 0.01005871407687664, 0.015535845421254635, -0.01989678479731083, -0.008702409453690052, 0.024530282244086266, 0.027541406452655792, 0.007112483959645033, 0.006995673291385174, 0.009169653058052063, 0.0062104444950819016, -0.0197929535061121, -0.014484548009932041, -0.016003089025616646, 0.019831890240311623, -0.01706736534833908, 0.009117737412452698, 8.852073369780555e-05, 0.025776265189051628, -0.027177995070815086, 0.006963225547224283, 0.023115573450922966, -0.010201482102274895, -0.0044128550216555595, -0.0283461045473814, -0.019624225795269012, -0.010727131739258766, -0.02275216206908226, -0.020467860624194145, 0.021389367058873177, 0.01663905940949917, 0.02600988745689392, -0.00015696459740865976, -0.017807168886065483, -0.022791098803281784, -0.010402657091617584, -0.013511124067008495, -7.077602640492842e-05, -0.04306427389383316, 0.0019452254055067897, 0.011564276181161404, -0.01046755164861679, -0.002868355717509985, 0.0025081888306885958, -0.013666871935129166, -0.013991346582770348, -0.013731766492128372, 0.010895858518779278, -0.012472804635763168, -0.0006014948594383895, 0.010740110650658607, -0.004922280088067055, -0.012524721212685108, -0.02722991071641445, -0.04103955253958702, 0.019974658265709877, -0.00720982626080513, -0.023336214944720268, 0.019857848063111305, -0.0025714614894241095, 0.005801606457680464, 0.02334919385612011, -0.0011186263291165233, -0.0033615571446716785, -0.023011740297079086, 0.02367366850376129, -0.014666253700852394, -0.014043262228369713, 0.001255716779269278, -0.0002841181121766567, 0.0031457815784960985, 0.03434239700436592, -0.012894622050225735, -0.01015605591237545, -0.01162268128246069, 0.005282447207719088, -0.01061681006103754, 0.006359702907502651, -0.009033373557031155, 0.016067983582615852, 0.005506334360688925, 0.010428614914417267, -0.022103212773799896, -0.012096414342522621, -0.01315420214086771, 0.028579724952578545, -0.026477130129933357, -0.003673052880913019, 0.022362791001796722, 0.02354387938976288, 0.006878862157464027, 0.0031279355753213167, 0.011142458766698837, 0.00558420829474926, -0.005318139214068651, -0.0141730522736907, -0.006440821569412947, 0.01819653809070587, -0.018157601356506348, 0.011960134841501713, -0.012433867901563644, 0.001039941213093698, -0.03442027047276497, -0.00954604335129261, -0.025659454986453056, 0.006246136501431465, -0.02628244459629059, 0.01233003567904234, -0.008105376735329628, -0.03252533823251724, -0.011142458766698837, -0.007657601498067379, 0.022972803562879562, -0.007482385262846947, -0.01177193969488144, 0.04054635018110275, 0.028164397925138474, -0.009260506369173527, -0.021064892411231995, -0.1648850291967392, 0.01178491860628128, 0.003974814433604479, -0.006340234540402889, 0.027956735342741013, -0.0074434480629861355, 0.021817674860358238, -0.0034167179837822914, -0.004322002176195383, -0.010869900695979595, 0.018819529563188553, -0.0008221376338042319, -0.0377948060631752, 0.002329727867618203, -0.009241038002073765, 0.02974783442914486, -0.0039553456008434296, 0.013024412095546722, -0.004562113434076309, 0.010973731987178326, 0.023608773946762085, 0.013167181052267551, 0.015470950864255428, -0.007067057769745588, 0.01624969020485878, 0.0001036290850606747, 0.00868943054229021, 0.018923360854387283, -0.00647651357576251, -0.006989183835685253, -0.00843634083867073, -0.029825707897543907, 0.017119280993938446, 0.00706056784838438, 0.014796043746173382, 0.012472804635763168, -0.012317056767642498, -0.0120899248868227, 0.0017732538981363177, 0.013368355110287666, 0.02427070215344429, 0.017599504441022873, 0.025153273716568947, -0.013264522887766361, 0.009610938839614391, 0.018105683848261833, 0.009072311222553253, 0.0014025416458025575, 0.01046755164861679, -0.014497526921331882, 0.013679850846529007, -0.029124842956662178, 2.376523156044641e-08, -0.008170271292328835, 0.005898948758840561, 0.026152655482292175, 0.0002224679192295298, 0.014925832860171795, -0.005198083817958832, -0.0029575861990451813, -0.02223300188779831, -0.014030283316969872, 0.003780129598453641, -0.008566129952669144, -0.02793077565729618, -0.02101297676563263, -0.005577718839049339, -0.006113102193921804, -0.022713225334882736, 0.002707740757614374, -0.02844993583858013, 0.004166254308074713, 0.022778119891881943, -0.0022778119891881943, 0.01224567275494337, 0.010558404959738255, -0.009500617161393166, -0.01224567275494337, 0.008799752220511436, 0.015665635466575623, -0.015769466757774353, 0.040987636893987656, -0.02863164246082306, 0.01920889876782894, -0.003822311293333769, -0.004983930382877588, -0.017508652061223984, -0.02943633869290352, -0.023699628189206123, -0.01897527649998665, 0.005084517411887646, -0.003540018340572715, 0.0033485782332718372, -0.010908837430179119, -0.002545503433793783, 0.018923360854387283, -0.010136587545275688, -0.01478306483477354, 0.030630405992269516, 0.005074783228337765, -0.006411619018763304, -0.006865883246064186, 0.006528429687023163, 0.03107169084250927, 0.007047588936984539, 0.036185409873723984, 0.010662236250936985, 0.030552532523870468, 0.025166252627968788, -0.004932014271616936, 0.007203336805105209, 0.009773176163434982, 0.0294622965157032, 0.019144004210829735, -0.006453800480812788, 0.030396783724427223, 0.00828059297055006, 0.013498145155608654, 0.019676141440868378, 0.02244066633284092, 0.03291470557451248, -0.018871445208787918, -0.02019530162215233, 0.00026059368974529207, -0.013848577626049519, -0.013653893023729324, -0.09718663990497589, -0.0023248607758432627, -0.009941902942955494, -0.002436804585158825, -0.0349653884768486, 0.006943757180124521, -0.00242382544092834, 0.006898330524563789, 0.008773794397711754, 0.02234981209039688, -0.002686650026589632, -0.021648947149515152, -0.0010001930641010404, -0.00530516030266881, 0.026542024686932564, 0.005749690346419811, -0.00781983882188797, 0.0003431319200899452, -0.017521630972623825, 0.0191959198564291, -0.017729293555021286, 0.014069220051169395, 0.002618510276079178, -0.009915945120155811, -0.018326327204704285, 0.007501853629946709, -0.02689245715737343, 0.007793880533427, 0.008936031721532345, 0.021791717037558556, -6.012920493958518e-05, -0.008507724851369858, -0.005230531096458435, -0.02733374387025833, -0.02620457112789154, -0.017197156324982643, -0.01746971346437931, -0.01356303971260786, 0.01325154397636652, -0.04119529947638512, 0.009208589792251587, 0.00162399560213089, -0.025516685098409653, -0.008961989544332027, -0.007806859910488129, -0.0002429503801977262, -0.014860938303172588, 0.014912853948771954, 0.00708652613684535, -0.02449134550988674, -0.0032625924795866013, -0.005120209883898497, -0.020338069647550583, 0.010993200354278088, 0.040676139295101166, -0.008955500088632107, -0.015509887598454952, -0.01937762461602688, 0.00883219949901104, -0.010110629722476006, -0.023193446919322014, -0.0061033680103719234, -0.00929295364767313, 0.015964152291417122, -0.005078027956187725, -0.006768540944904089, 0.014082198962569237, -0.002177224727347493, 0.007943139411509037, -0.019948700442910194, -0.01758652552962303, 0.004893077537417412, -0.019221877679228783, 0.008364955894649029, -0.023738564923405647, -0.019325708970427513, -0.021700862795114517, -0.006132570561021566, 0.020675523206591606, -0.02782694436609745, -0.007073547225445509, -0.010266377590596676, 0.01623671129345894, -0.03127935528755188, 0.005048825405538082, 0.004643232095986605, 0.0007385853677988052, 0.013420270755887032, -0.013537081889808178, -0.004195456858724356, 0.0009377317037433386, -0.006684177555143833, -0.004081890918314457, -0.014095177873969078, -0.013121753931045532, 0.010259888134896755, 0.004912545904517174, 0.01776823028922081, 0.014380715787410736, 0.00953955389559269, 0.007398021873086691, -0.0141730522736907, -0.05212360620498657, 0.024205807596445084, 0.019520394504070282, 0.009370827116072178, 0.010499998927116394, -0.013718787580728531, 0.021051913499832153, -0.030189119279384613, 0.01836526393890381, -0.0030273483134806156, -0.011544807814061642, 0.02192150615155697, -0.008475277572870255, 0.0053311181254684925, -0.007508343085646629, -0.020389985293149948, 0.0029949008021503687, -0.0014698700979351997, 0.006531674414873123, 0.003692521248012781, -0.010266377590596676, 0.009520085528492928, 0.017236093059182167, 0.03540667146444321, 0.01294004824012518, 0.01076606847345829, 0.006301297340542078, 0.030396783724427223, -0.008644004352390766, -0.017651420086622238, 0.01605500467121601, -0.023024719208478928, -0.0068399254232645035, 0.016807785257697105, -0.02632138319313526, -0.03231767192482948, -0.02011742815375328, 0.004639987368136644, 0.0019403583137318492, 0.022907909005880356, -0.013303459621965885, -0.019922742620110512, 0.02710012160241604, -0.020948082208633423, 0.01299196481704712, 0.019481457769870758, -0.02254449762403965, -0.0002526846365071833, -0.0019728057086467743, 0.0037703951820731163, 0.026022866368293762, 0.025737328454852104, 0.00018322677351534367, -2.8036636649630964e-05, -0.004334981087595224, -0.014899875037372112, 0.017391839995980263, -0.01746971346437931, 0.0054544187150895596, -0.0019338688580319285, -0.00022672665363643318, -0.0258930753916502, 0.011051606386899948, -0.008708898909389973, -0.010292335413396358, -0.010026265867054462, -0.010792026296257973, 0.009578491561114788, 0.01238195225596428, -0.03909270465373993, -0.003789863782003522, -0.004970951471477747, 0.031954262405633926, 0.03948207199573517, 0.011148948222398758, 0.003994282800704241, -0.015107538551092148, -0.0024530282244086266, -0.005373300053179264, 0.02080531418323517, 0.007982076145708561, -0.0161458570510149, -0.027904817834496498, -0.00634996872395277, 0.028086524456739426, 0.024205807596445084, -0.004085135646164417, -0.0003851108194794506, 0.004970951471477747, 0.014640295878052711, -0.02173980139195919, 0.00874134711921215, 0.00110483611933887, 0.002876467537134886, 0.00023199936549644917, 0.033355992287397385, -0.0014877162175253034, -0.02650308795273304, 0.007488874718546867, 0.003108466975390911, 0.006330500356853008, -0.00705407839268446, -0.007073547225445509, -0.029514212161302567, 0.00294622965157032, 0.004656211007386446, -0.03514709323644638, -0.018728675320744514, 0.023985164240002632, 0.01548392977565527, 0.025555621832609177, -0.0002565377508290112, -0.009974350221455097, 0.00898145791143179, 0.013679850846529007, 0.006807477679103613, -0.004052688367664814, -0.03312237188220024, -0.014886896125972271, 0.0153281819075346, -0.012109393253922462, -0.0031636275816708803, 0.03016316145658493, -0.010597341693937778, 0.01595117338001728, 0.01950741559267044, 0.013913472183048725, -0.017716314643621445, 0.013731766492128372, -0.0018105685012415051, 1.9988145140814595e-05, -0.009072311222553253, -0.02710012160241604, -0.0012192134745419025, 0.020364027470350266, -0.0027158528100699186, -0.012427378445863724, 0.0529802180826664, -0.02651606686413288, 0.0611569806933403, 0.011966624297201633, 0.023686649277806282, 0.0023410844150930643, -0.04379109665751457, -0.006288318429142237, 0.026866499334573746, 0.020143385976552963, -0.01696353405714035, 0.0012216470204293728, -0.00944221206009388, 0.012622063048183918, 0.02538689598441124, 0.007865265011787415, -0.011512359604239464, -0.0036211370024830103, -0.020493818446993828, -0.01014956645667553, -0.010350740514695644, -0.009007415734231472, 0.01117490604519844, -0.009370827116072178, 0.014601358212530613, -0.0008509347098879516, -0.00469190301373601, 0.015977131202816963, 0.022116191685199738, -0.0010813117260113358, -0.012271630577743053, -0.0238813329488039, 0.00047576092765666544, -0.009792644530534744, -0.006070920266211033, -0.0003421179426368326, 0.02144128456711769, 0.004201946314424276, -0.021804695948958397, -0.004902811720967293, -0.011551297269761562, 0.03057849034667015, 0.008014523424208164, 0.018832508474588394, -0.016016067937016487, 0.0061033680103719234, -0.0233621746301651, 0.0006801799754612148, 0.021454263478517532, -0.0022794343531131744, -0.027775028720498085], index=0, object='embedding')], model='text-embedding-ada-002', object='list', usage=Usage(prompt_tokens=13, total_tokens=13))"
            ]
          },
          "execution_count": 143,
          "metadata": {},
          "output_type": "execute_result"
        }
      ],
      "source": [
        "user_request = \"I want to watch a movie with a story of toys disney\"\n",
        "\n",
        "user_embedding = client.embeddings.create(\n",
        "    model=\"text-embedding-ada-002\",\n",
        "    input=user_request\n",
        ")\n",
        "user_embedding"
      ]
    },
    {
      "cell_type": "code",
      "execution_count": 144,
      "metadata": {},
      "outputs": [
        {
          "data": {
            "text/plain": [
              "[-0.03076019510626793,\n",
              " -0.0289431381970644,\n",
              " -0.013835598714649677,\n",
              " -0.013783682137727737,\n",
              " -0.014004325494170189,\n",
              " 0.008656983263790607,\n",
              " 0.0022210287861526012,\n",
              " -0.006418108474463224,\n",
              " -0.006064430810511112,\n",
              " -0.0082221869379282,\n",
              " 0.015782445669174194,\n",
              " 0.015302224084734917,\n",
              " 0.05142274126410484,\n",
              " -0.027749070897698402,\n",
              " 0.004500463139265776,\n",
              " -0.0006043339963071048,\n",
              " 0.025023484602570534,\n",
              " 0.0024173359852284193,\n",
              " 0.01717119850218296,\n",
              " -0.02294684574007988,\n",
              " -0.009526574984192848,\n",
              " -0.0004481805954128504,\n",
              " -0.0008971723727881908,\n",
              " -0.03166872262954712,\n",
              " 0.019637204706668854,\n",
              " -0.03891099989414215,\n",
              " 0.00970179121941328,\n",
              " -0.021298514679074287,\n",
              " 0.005279202479869127,\n",
              " -0.005593942478299141,\n",
              " 0.030241036787629128,\n",
              " -0.018611865118145943,\n",
              " 0.005970333237200975,\n",
              " -0.018209517002105713,\n",
              " -0.012213225476443768,\n",
              " -0.022700244560837746,\n",
              " 0.012252162210643291,\n",
              " -0.005772403907030821,\n",
              " 0.021674904972314835,\n",
              " -0.016898639500141144,\n",
              " -0.019637204706668854,\n",
              " 0.0197929535061121,\n",
              " -0.015535845421254635,\n",
              " -0.03545858711004257,\n",
              " -0.0024351822212338448,\n",
              " 0.010882879607379436,\n",
              " 0.002156133996322751,\n",
              " -0.0065641216933727264,\n",
              " -0.000627858389634639,\n",
              " -0.0045653581619262695,\n",
              " 0.007651112042367458,\n",
              " 0.012349504977464676,\n",
              " -0.03320024535059929,\n",
              " -0.027878860011696815,\n",
              " 0.012706426903605461,\n",
              " 0.01340729184448719,\n",
              " -0.004588071256875992,\n",
              " 0.004390141926705837,\n",
              " 0.024724967777729034,\n",
              " -0.013030901551246643,\n",
              " 0.011337143369019032,\n",
              " -0.0014163317391648889,\n",
              " -0.004782756324857473,\n",
              " -0.0005280824843794107,\n",
              " -0.018352285027503967,\n",
              " 0.0037444373592734337,\n",
              " -0.0018576172878965735,\n",
              " -0.01907910779118538,\n",
              " 0.010246909223496914,\n",
              " -0.004627008456736803,\n",
              " 0.027437575161457062,\n",
              " 0.022830035537481308,\n",
              " 0.005730221979320049,\n",
              " 0.007540790364146233,\n",
              " 0.024050060659646988,\n",
              " -0.014302842319011688,\n",
              " -0.0017602748703211546,\n",
              " 0.022375769913196564,\n",
              " 0.0028878243174403906,\n",
              " 0.01575648784637451,\n",
              " 0.007644622586667538,\n",
              " -0.014692211523652077,\n",
              " -0.004974196199327707,\n",
              " -0.0012167799286544323,\n",
              " 0.0129465376958251,\n",
              " 0.034082815051078796,\n",
              " 0.005233775824308395,\n",
              " 0.02346600592136383,\n",
              " -0.03135722875595093,\n",
              " -0.001408219919539988,\n",
              " 0.007696538232266903,\n",
              " 0.007508343085646629,\n",
              " 0.008514214307069778,\n",
              " 0.0022891685366630554,\n",
              " 0.018456116318702698,\n",
              " 0.02761928178369999,\n",
              " -0.027800986543297768,\n",
              " 0.02072743885219097,\n",
              " -0.001352248014882207,\n",
              " -0.0037411926314234734,\n",
              " 0.005013132933527231,\n",
              " -0.009046352468430996,\n",
              " -0.016431394964456558,\n",
              " -0.006937267724424601,\n",
              " -0.003246368607506156,\n",
              " 0.016898639500141144,\n",
              " 0.015211370773613453,\n",
              " 0.002310259500518441,\n",
              " 0.015782445669174194,\n",
              " -0.00677503040060401,\n",
              " -0.006943757180124521,\n",
              " 0.006184486672282219,\n",
              " 0.031097648665308952,\n",
              " -0.05689987167716026,\n",
              " -0.017508652061223984,\n",
              " -0.02489369362592697,\n",
              " -0.011648639105260372,\n",
              " 0.013316439464688301,\n",
              " -0.0010164168197661638,\n",
              " -0.0247768834233284,\n",
              " 0.03403089940547943,\n",
              " 0.018949318677186966,\n",
              " 0.012972495518624783,\n",
              " -0.009721260517835617,\n",
              " 0.021194683387875557,\n",
              " -0.0031279355753213167,\n",
              " -0.003776884637773037,\n",
              " -0.008702409453690052,\n",
              " -0.013011433184146881,\n",
              " -0.01573053002357483,\n",
              " 0.04376513883471489,\n",
              " 0.00751483254134655,\n",
              " -0.0013765835901722312,\n",
              " -0.024322617799043655,\n",
              " -0.05176019296050072,\n",
              " 0.031954262405633926,\n",
              " -0.01462731696665287,\n",
              " 0.035588376224040985,\n",
              " -0.013420270755887032,\n",
              " 0.0041435412131249905,\n",
              " 0.002003630856052041,\n",
              " 0.007307168561965227,\n",
              " 0.0019728057086467743,\n",
              " -0.01819653809070587,\n",
              " -0.030422741547226906,\n",
              " 0.008553151041269302,\n",
              " 0.004597805440425873,\n",
              " -0.00807941798120737,\n",
              " 0.014406673610210419,\n",
              " -0.005402502603828907,\n",
              " 0.0188974030315876,\n",
              " -0.0009434099774807692,\n",
              " -0.0010740110883489251,\n",
              " 0.012297588400542736,\n",
              " 0.014406673610210419,\n",
              " 0.036496907472610474,\n",
              " 0.011486401781439781,\n",
              " -0.010422125458717346,\n",
              " -0.014601358212530613,\n",
              " -0.0023735319264233112,\n",
              " 0.0030338377691805363,\n",
              " -0.007982076145708561,\n",
              " 0.0016613100888207555,\n",
              " -0.01950741559267044,\n",
              " 0.011032138019800186,\n",
              " 0.026658836752176285,\n",
              " 0.012881643138825893,\n",
              " 0.0035562419798225164,\n",
              " 0.0009498994913883507,\n",
              " 0.000963689642958343,\n",
              " -0.01565265655517578,\n",
              " 0.028164397925138474,\n",
              " -0.026451172307133675,\n",
              " 0.015444993041455746,\n",
              " -0.019429540261626244,\n",
              " 0.0053311181254684925,\n",
              " 0.012297588400542736,\n",
              " 0.02092212438583374,\n",
              " -0.02212917059659958,\n",
              " -0.011032138019800186,\n",
              " 0.007612174842506647,\n",
              " 0.007105994503945112,\n",
              " 0.020792335271835327,\n",
              " 0.019429540261626244,\n",
              " -0.01868973858654499,\n",
              " 0.0063532134518027306,\n",
              " -0.004740574397146702,\n",
              " -0.012505252845585346,\n",
              " 0.009377316571772099,\n",
              " -0.004471260588616133,\n",
              " -0.0007418301538564265,\n",
              " 0.004688658285886049,\n",
              " 0.005402502603828907,\n",
              " -0.03086402639746666,\n",
              " -0.658294141292572,\n",
              " -0.013614955358207226,\n",
              " -0.002186959143728018,\n",
              " -0.015821382403373718,\n",
              " 0.014977749437093735,\n",
              " 0.025334980338811874,\n",
              " 0.007067057769745588,\n",
              " 0.0029170268680900335,\n",
              " -0.010474041104316711,\n",
              " 0.0050066434778273106,\n",
              " -0.03486155346035957,\n",
              " 0.020065510645508766,\n",
              " 0.02427070215344429,\n",
              " -0.011603212915360928,\n",
              " -0.010993200354278088,\n",
              " 0.0025811956729739904,\n",
              " 0.01981891132891178,\n",
              " -0.04218170419335365,\n",
              " 0.0009255639160983264,\n",
              " -0.002564972033724189,\n",
              " -0.030033372342586517,\n",
              " 0.03836588189005852,\n",
              " -0.018430158495903015,\n",
              " -0.01310228556394577,\n",
              " 0.01685970276594162,\n",
              " -0.009202100336551666,\n",
              " 0.0015753243351355195,\n",
              " -0.013283991254866123,\n",
              " -0.006531674414873123,\n",
              " 0.01284270640462637,\n",
              " 0.002263210481032729,\n",
              " 0.013459207490086555,\n",
              " 0.014406673610210419,\n",
              " 0.013524102978408337,\n",
              " 0.043116189539432526,\n",
              " -0.005363565869629383,\n",
              " -0.005172125529497862,\n",
              " 0.04586773365736008,\n",
              " 0.03584795817732811,\n",
              " 0.02029913291335106,\n",
              " -0.021973421797156334,\n",
              " 0.01340729184448719,\n",
              " 0.006431087385863066,\n",
              " 0.008008033968508244,\n",
              " -0.002326483139768243,\n",
              " 0.014289862476289272,\n",
              " 0.016197774559259415,\n",
              " 0.011259269900619984,\n",
              " -0.01046755164861679,\n",
              " 0.004711371846497059,\n",
              " 0.008358466438949108,\n",
              " -0.0011145704193040729,\n",
              " -0.005162391345947981,\n",
              " -0.005704264156520367,\n",
              " 0.02793077565729618,\n",
              " 0.008475277572870255,\n",
              " 0.03343386575579643,\n",
              " -0.0007617042283527553,\n",
              " 0.01858590729534626,\n",
              " -0.005535537376999855,\n",
              " -0.004951483104377985,\n",
              " -0.0035465077962726355,\n",
              " -0.012764832004904747,\n",
              " 0.023686649277806282,\n",
              " -0.008845178410410881,\n",
              " 0.026970332488417625,\n",
              " -0.015444993041455746,\n",
              " -0.0027580345049500465,\n",
              " -0.019053149968385696,\n",
              " -0.04864523559808731,\n",
              " 0.0339270681142807,\n",
              " 0.011797897517681122,\n",
              " -0.029280591756105423,\n",
              " 0.0013384579215198755,\n",
              " -0.016509270295500755,\n",
              " 0.0233621746301651,\n",
              " 0.03239554911851883,\n",
              " -0.010240419767796993,\n",
              " -0.01316069159656763,\n",
              " 0.020169343799352646,\n",
              " 0.022972803562879562,\n",
              " -0.0018722186796367168,\n",
              " -0.0008833822212181985,\n",
              " -0.0034524102229624987,\n",
              " 0.03800246864557266,\n",
              " 0.0034167179837822914,\n",
              " -0.006048207171261311,\n",
              " 0.007904201745986938,\n",
              " 0.0047178613021969795,\n",
              " 0.01878059096634388,\n",
              " -0.0034199627116322517,\n",
              " 0.01705438643693924,\n",
              " -0.01061032060533762,\n",
              " -0.015535845421254635,\n",
              " -0.002345951506868005,\n",
              " 0.0016840233001857996,\n",
              " -0.005567984655499458,\n",
              " 0.007125462871044874,\n",
              " 0.008416872471570969,\n",
              " -0.03727564588189125,\n",
              " -0.012920579873025417,\n",
              " -0.01168757677078247,\n",
              " -0.023401111364364624,\n",
              " 0.008936031721532345,\n",
              " 0.012959516607224941,\n",
              " 0.002459517680108547,\n",
              " 0.006002780515700579,\n",
              " 0.010259888134896755,\n",
              " 0.03595178946852684,\n",
              " -0.021973421797156334,\n",
              " 0.004789245780557394,\n",
              " -0.0012224582023918629,\n",
              " 0.0036990109365433455,\n",
              " -0.019559331238269806,\n",
              " 0.025932012125849724,\n",
              " -0.026334362104535103,\n",
              " 0.013900493271648884,\n",
              " -0.002470874460414052,\n",
              " 0.012368973344564438,\n",
              " 0.00989647675305605,\n",
              " -0.005129944067448378,\n",
              " 0.00647326884791255,\n",
              " -0.006479758303612471,\n",
              " -0.0013611711328849196,\n",
              " -0.0006818023393861949,\n",
              " 0.012745363637804985,\n",
              " -0.008864646777510643,\n",
              " -0.009046352468430996,\n",
              " -0.004808714147657156,\n",
              " -0.0017164708115160465,\n",
              " -0.0035822000354528427,\n",
              " -0.017443755641579628,\n",
              " -0.0027450553607195616,\n",
              " -0.010013286955654621,\n",
              " -0.004150030668824911,\n",
              " -0.0021820918191224337,\n",
              " 0.012018540874123573,\n",
              " -0.007008652202785015,\n",
              " 0.015042643994092941,\n",
              " -0.007651112042367458,\n",
              " -0.03301854059100151,\n",
              " -0.0013376467395573854,\n",
              " -0.00019762532610911876,\n",
              " 0.012355994433164597,\n",
              " -0.013485166244208813,\n",
              " -0.01961124688386917,\n",
              " -0.015120518393814564,\n",
              " -0.010318293236196041,\n",
              " -0.00561016658321023,\n",
              " 0.0038709824439138174,\n",
              " -0.03353769704699516,\n",
              " 0.0032658372074365616,\n",
              " 0.004104604013264179,\n",
              " 0.0066582197323441505,\n",
              " -0.009922434575855732,\n",
              " 0.009941902942955494,\n",
              " -0.0007491307915188372,\n",
              " -0.00883219949901104,\n",
              " -0.002978677162900567,\n",
              " -0.004159764852374792,\n",
              " 0.014822001568973064,\n",
              " 0.0006290752207860351,\n",
              " -0.010143077000975609,\n",
              " 0.001310877501964569,\n",
              " 0.013900493271648884,\n",
              " -0.029202716425061226,\n",
              " 0.0048800986260175705,\n",
              " 0.022583434358239174,\n",
              " -0.027852902188897133,\n",
              " -0.011765450239181519,\n",
              " -0.01137608103454113,\n",
              " -0.021765759214758873,\n",
              " -0.010681704618036747,\n",
              " 0.025023484602570534,\n",
              " -0.0005422782269306481,\n",
              " 0.022427687421441078,\n",
              " -0.0012816748348996043,\n",
              " -0.022505560889840126,\n",
              " 0.025750307366251945,\n",
              " -0.0006319143576547503,\n",
              " -0.0022567210253328085,\n",
              " 0.005973577965050936,\n",
              " -0.017521630972623825,\n",
              " 0.027593322098255157,\n",
              " 0.03382323682308197,\n",
              " 0.0036146475467830896,\n",
              " 0.0031863409094512463,\n",
              " 0.02192150615155697,\n",
              " -0.02710012160241604,\n",
              " 0.025244126096367836,\n",
              " 0.008637514896690845,\n",
              " 0.017547588795423508,\n",
              " -0.005285691935569048,\n",
              " 0.0010675215162336826,\n",
              " -0.007988565601408482,\n",
              " -0.004656211007386446,\n",
              " 0.005801606457680464,\n",
              " 0.018209517002105713,\n",
              " 0.025516685098409653,\n",
              " 0.03151297569274902,\n",
              " 0.020948082208633423,\n",
              " -0.007767922710627317,\n",
              " 0.020999997854232788,\n",
              " -0.027904817834496498,\n",
              " -0.00012441574654076248,\n",
              " -0.030526572838425636,\n",
              " 0.011999071575701237,\n",
              " -0.01817058026790619,\n",
              " 0.028605684638023376,\n",
              " 0.020389985293149948,\n",
              " 0.009202100336551666,\n",
              " -0.01879357174038887,\n",
              " 0.009922434575855732,\n",
              " -0.009422743692994118,\n",
              " 0.015964152291417122,\n",
              " 0.017223114147782326,\n",
              " -0.00858559925109148,\n",
              " 0.028969096019864082,\n",
              " -0.03322620317339897,\n",
              " 0.0009993818821385503,\n",
              " -0.009357848204672337,\n",
              " -0.007521321997046471,\n",
              " 0.01696353405714035,\n",
              " 0.010026265867054462,\n",
              " -0.019935721531510353,\n",
              " -0.0036016684025526047,\n",
              " 0.017339924350380898,\n",
              " 0.005746445618569851,\n",
              " 0.01837824285030365,\n",
              " -0.014549442566931248,\n",
              " -0.0306563638150692,\n",
              " 0.0011518849059939384,\n",
              " -0.013588997535407543,\n",
              " 0.009877007454633713,\n",
              " -0.026035845279693604,\n",
              " -0.00827410351485014,\n",
              " 0.014847959391772747,\n",
              " 0.004685413558036089,\n",
              " 0.040053147822618484,\n",
              " 0.011700555682182312,\n",
              " 0.011544807814061642,\n",
              " 0.037509266287088394,\n",
              " 0.014964770525693893,\n",
              " 0.004607539623975754,\n",
              " -0.007021631114184856,\n",
              " 0.006109857466071844,\n",
              " 0.00938380602747202,\n",
              " 0.006645240355283022,\n",
              " -0.018313348293304443,\n",
              " 0.010246909223496914,\n",
              " -0.023907290771603584,\n",
              " -0.021285535767674446,\n",
              " -0.017716314643621445,\n",
              " 0.009312422014772892,\n",
              " -0.014666253700852394,\n",
              " -0.0018965542549267411,\n",
              " -0.01016254536807537,\n",
              " 0.007495364174246788,\n",
              " 0.030344868078827858,\n",
              " 0.03026699461042881,\n",
              " -0.007346105761826038,\n",
              " 0.001451212796382606,\n",
              " 0.006327255163341761,\n",
              " 0.01163566019386053,\n",
              " 0.0023345949593931437,\n",
              " -0.0009864028543233871,\n",
              " -0.003877471899613738,\n",
              " -0.011713534593582153,\n",
              " -0.01583436131477356,\n",
              " -0.0072812107391655445,\n",
              " 0.019040171056985855,\n",
              " 0.013368355110287666,\n",
              " 0.00827410351485014,\n",
              " -0.009507106617093086,\n",
              " -0.007534300908446312,\n",
              " -0.009104758501052856,\n",
              " 0.009740728884935379,\n",
              " 0.00530516030266881,\n",
              " -0.008046970702707767,\n",
              " 0.011045116931200027,\n",
              " 0.015315202996134758,\n",
              " -0.04384301230311394,\n",
              " 0.015263286419212818,\n",
              " -0.0036990109365433455,\n",
              " -0.000146114980452694,\n",
              " -0.011953645385801792,\n",
              " -0.028787389397621155,\n",
              " -0.021597031503915787,\n",
              " -0.02943633869290352,\n",
              " 0.0031100893393158913,\n",
              " -0.011207354255020618,\n",
              " 0.0042700860649347305,\n",
              " 0.022168107330799103,\n",
              " 0.014134115539491177,\n",
              " -0.010428614914417267,\n",
              " 0.00852719321846962,\n",
              " 0.01431582123041153,\n",
              " -0.01563967764377594,\n",
              " 0.01101915817707777,\n",
              " 0.03107169084250927,\n",
              " -0.0002350413124077022,\n",
              " 0.011960134841501713,\n",
              " -0.026022866368293762,\n",
              " -0.028761431574821472,\n",
              " 0.006174752488732338,\n",
              " 0.004743819124996662,\n",
              " 0.012511742301285267,\n",
              " -0.014445610344409943,\n",
              " -0.01401730440557003,\n",
              " -0.02203831635415554,\n",
              " 0.0047081271186470985,\n",
              " -0.009013905189931393,\n",
              " -0.01675586961209774,\n",
              " -0.029695918783545494,\n",
              " -0.015133497305214405,\n",
              " -0.016509270295500755,\n",
              " -0.019247835502028465,\n",
              " 0.008624535985291004,\n",
              " 0.02811248227953911,\n",
              " 0.007015141658484936,\n",
              " 0.005097496323287487,\n",
              " -0.0068204570561647415,\n",
              " -0.006233157590031624,\n",
              " 0.011901729740202427,\n",
              " 0.11400740593671799,\n",
              " 0.01534116081893444,\n",
              " 0.010577873326838017,\n",
              " 0.008721877820789814,\n",
              " -0.02641223557293415,\n",
              " 0.0011421507224440575,\n",
              " -0.02072743885219097,\n",
              " -0.022596413269639015,\n",
              " 0.007690048776566982,\n",
              " 0.0005146978655830026,\n",
              " 0.012304077856242657,\n",
              " -0.0061033680103719234,\n",
              " 0.027255868539214134,\n",
              " -0.004620519001036882,\n",
              " -0.0048898328095674515,\n",
              " -3.832856600638479e-05,\n",
              " 0.0012102903565391898,\n",
              " 0.018209517002105713,\n",
              " 0.026152655482292175,\n",
              " -0.007696538232266903,\n",
              " -0.00852719321846962,\n",
              " 0.019014213234186172,\n",
              " 0.017729293555021286,\n",
              " -0.0033842704724520445,\n",
              " 0.01116841658949852,\n",
              " -0.024815820157527924,\n",
              " 0.0167428907006979,\n",
              " 0.03891099989414215,\n",
              " -0.02733374387025833,\n",
              " -0.031954262405633926,\n",
              " -0.021467242389917374,\n",
              " -0.024322617799043655,\n",
              " -0.013498145155608654,\n",
              " 0.00487685389816761,\n",
              " -0.00573346670717001,\n",
              " -0.009533064439892769,\n",
              " -0.0012151575647294521,\n",
              " 0.04205191135406494,\n",
              " 0.02954016998410225,\n",
              " 0.006187731400132179,\n",
              " 0.006440821569412947,\n",
              " 0.0223238542675972,\n",
              " 0.006330500356853008,\n",
              " -0.02029913291335106,\n",
              " -0.00194847013335675,\n",
              " -0.0039715697057545185,\n",
              " 0.00205716909840703,\n",
              " 0.007722496520727873,\n",
              " 0.01269993744790554,\n",
              " -0.026425214484333992,\n",
              " 0.04807416349649429,\n",
              " -0.004081890918314457,\n",
              " -0.014199010096490383,\n",
              " 0.006466779392212629,\n",
              " 0.020441902801394463,\n",
              " -0.021648947149515152,\n",
              " -0.0034102285280823708,\n",
              " -0.0051786149851977825,\n",
              " 0.0097472183406353,\n",
              " 0.011415017768740654,\n",
              " 0.005357076413929462,\n",
              " -0.015276266261935234,\n",
              " 0.004669189918786287,\n",
              " -0.003948856145143509,\n",
              " -0.0032658372074365616,\n",
              " -0.050825707614421844,\n",
              " -0.002446538768708706,\n",
              " -0.008196229115128517,\n",
              " 0.0051948390901088715,\n",
              " -0.012044498696923256,\n",
              " -0.009617428295314312,\n",
              " 0.002183714183047414,\n",
              " -0.023011740297079086,\n",
              " -0.0025065664667636156,\n",
              " -0.0026688037905842066,\n",
              " -0.011259269900619984,\n",
              " 0.01797589473426342,\n",
              " -0.01254418957978487,\n",
              " 0.011739492416381836,\n",
              " 0.02437453530728817,\n",
              " -0.027359701693058014,\n",
              " -0.010727131739258766,\n",
              " 0.01848207600414753,\n",
              " -0.030137203633785248,\n",
              " 0.0005507956957444549,\n",
              " 0.02020828053355217,\n",
              " -0.006898330524563789,\n",
              " 0.006768540944904089,\n",
              " -0.027463532984256744,\n",
              " 0.014951791614294052,\n",
              " 0.02985166572034359,\n",
              " 0.013770703226327896,\n",
              " 0.021700862795114517,\n",
              " -0.0357181690633297,\n",
              " 0.026477130129933357,\n",
              " 0.015964152291417122,\n",
              " 0.009559023194015026,\n",
              " 0.027437575161457062,\n",
              " -0.004163009580224752,\n",
              " -0.008871136233210564,\n",
              " 0.003194452729076147,\n",
              " -0.01269993744790554,\n",
              " -0.010240419767796993,\n",
              " 0.00021395046496763825,\n",
              " -0.0007726552430540323,\n",
              " 0.006090389098972082,\n",
              " -0.016937576234340668,\n",
              " 0.008144313469529152,\n",
              " -0.005791872274130583,\n",
              " -0.010584362782537937,\n",
              " 0.009915945120155811,\n",
              " -0.003867737716063857,\n",
              " -0.012472804635763168,\n",
              " 0.004854140337556601,\n",
              " 0.010104140266776085,\n",
              " 0.02092212438583374,\n",
              " -0.014497526921331882,\n",
              " 0.036003705114126205,\n",
              " 0.015782445669174194,\n",
              " -0.02446538768708706,\n",
              " 0.010344251058995724,\n",
              " -0.041091468185186386,\n",
              " 0.016496289521455765,\n",
              " 0.008553151041269302,\n",
              " -0.01900123432278633,\n",
              " -0.0005122643196955323,\n",
              " 0.001984162488952279,\n",
              " -0.029721876606345177,\n",
              " 0.005486865993589163,\n",
              " 0.004516686778515577,\n",
              " -0.0036990109365433455,\n",
              " 0.017326945438981056,\n",
              " -0.014354757964611053,\n",
              " -0.0005495789228007197,\n",
              " -0.023193446919322014,\n",
              " -0.014445610344409943,\n",
              " 0.003139292122796178,\n",
              " -0.0034199627116322517,\n",
              " 0.0030500616412609816,\n",
              " -0.01656118594110012,\n",
              " -0.020987018942832947,\n",
              " 6.144738290458918e-05,\n",
              " 0.01146693341434002,\n",
              " -0.021285535767674446,\n",
              " 0.022518539801239967,\n",
              " -0.022414708510041237,\n",
              " -0.015055622905492783,\n",
              " 0.004886588081717491,\n",
              " -0.010227440856397152,\n",
              " 0.023414090275764465,\n",
              " -0.009364337660372257,\n",
              " 0.03236959129571915,\n",
              " -0.02154511585831642,\n",
              " -0.0007990187732502818,\n",
              " 0.018417179584503174,\n",
              " -0.027541406452655792,\n",
              " -0.014549442566931248,\n",
              " -0.008105376735329628,\n",
              " 0.04101359471678734,\n",
              " 0.014964770525693893,\n",
              " 0.0647391825914383,\n",
              " -0.002070148242637515,\n",
              " 0.017223114147782326,\n",
              " -0.007696538232266903,\n",
              " -0.0070021627470850945,\n",
              " 0.005535537376999855,\n",
              " 0.01563967764377594,\n",
              " 0.015613719820976257,\n",
              " -0.02184363268315792,\n",
              " 0.023738564923405647,\n",
              " 0.010194992646574974,\n",
              " 0.0005868934676982462,\n",
              " 0.027593322098255157,\n",
              " 0.012154819443821907,\n",
              " 0.0007969908183440566,\n",
              " 0.003174984361976385,\n",
              " 0.02020828053355217,\n",
              " -0.0010358853032812476,\n",
              " 0.0038482691161334515,\n",
              " 0.004364183638244867,\n",
              " -0.010026265867054462,\n",
              " 0.016626080498099327,\n",
              " 0.0011786541435867548,\n",
              " -0.004607539623975754,\n",
              " 0.00020533159840852022,\n",
              " 0.010019776411354542,\n",
              " 0.02151915803551674,\n",
              " 0.015964152291417122,\n",
              " 0.0074045113287866116,\n",
              " -0.001961449161171913,\n",
              " 0.031538933515548706,\n",
              " -0.021882569417357445,\n",
              " 0.018027810379862785,\n",
              " -0.02385537512600422,\n",
              " 0.015302224084734917,\n",
              " -0.009208589792251587,\n",
              " -0.014224967919290066,\n",
              " -0.008008033968508244,\n",
              " 0.009630407206714153,\n",
              " 0.00383204547688365,\n",
              " 0.034082815051078796,\n",
              " -0.010850431397557259,\n",
              " -0.012823238037526608,\n",
              " 0.013394312933087349,\n",
              " 0.003032215405255556,\n",
              " 0.05199381709098816,\n",
              " 0.01666501723229885,\n",
              " 0.00706056784838438,\n",
              " -0.015081580728292465,\n",
              " -0.017742272466421127,\n",
              " -0.020065510645508766,\n",
              " -0.05456365644931793,\n",
              " -0.008799752220511436,\n",
              " -0.019247835502028465,\n",
              " 0.007190357893705368,\n",
              " -0.0034491652622818947,\n",
              " -0.0048898328095674515,\n",
              " 0.0038936955388635397,\n",
              " -0.006440821569412947,\n",
              " -0.027982693165540695,\n",
              " 0.00044777500443160534,\n",
              " -0.011668107472360134,\n",
              " 0.03299257904291153,\n",
              " 0.013913472183048725,\n",
              " 0.014393694698810577,\n",
              " 0.022713225334882736,\n",
              " -0.024517303332686424,\n",
              " -0.02416687086224556,\n",
              " 0.020065510645508766,\n",
              " -0.019624225795269012,\n",
              " 0.007021631114184856,\n",
              " 0.014484548009932041,\n",
              " 0.017417797818779945,\n",
              " -0.01605500467121601,\n",
              " -0.016327563673257828,\n",
              " 0.001925756921991706,\n",
              " -0.006872372701764107,\n",
              " -0.036496907472610474,\n",
              " -0.03384919464588165,\n",
              " -0.0060774097219109535,\n",
              " -0.0010293957311660051,\n",
              " 0.0005345719400793314,\n",
              " -0.017210135236382484,\n",
              " 0.027567364275455475,\n",
              " -0.012284609489142895,\n",
              " 0.023024719208478928,\n",
              " -0.028995053842663765,\n",
              " -0.0005945997545495629,\n",
              " -0.014134115539491177,\n",
              " -0.024101976305246353,\n",
              " -0.013978367671370506,\n",
              " -0.00019924770458601415,\n",
              " 0.0013506256509572268,\n",
              " 0.021207662299275398,\n",
              " 0.007995055057108402,\n",
              " -0.013926451094448566,\n",
              " 0.02263535000383854,\n",
              " -0.015003707259893417,\n",
              " -0.009169653058052063,\n",
              " 0.005918417125940323,\n",
              " -0.021051913499832153,\n",
              " 0.03135722875595093,\n",
              " -0.015574782155454159,\n",
              " 0.0185988862067461,\n",
              " 0.018741654232144356,\n",
              " 0.002112329937517643,\n",
              " -0.003209054237231612,\n",
              " -0.015873299911618233,\n",
              " 0.015406055375933647,\n",
              " 0.027463532984256744,\n",
              " -0.008637514896690845,\n",
              " -0.0029283836483955383,\n",
              " 0.0020928613375872374,\n",
              " 0.0017051142640411854,\n",
              " -0.01605500467121601,\n",
              " -0.004503707867115736,\n",
              " -0.013082817196846008,\n",
              " -0.0283461045473814,\n",
              " -0.017612483352422714,\n",
              " -0.008754326030611992,\n",
              " 0.019922742620110512,\n",
              " 0.0061033680103719234,\n",
              " 0.016327563673257828,\n",
              " -0.03257725387811661,\n",
              " -0.02712607942521572,\n",
              " 9.612560825189576e-05,\n",
              " -0.001808946137316525,\n",
              " -0.011492891237139702,\n",
              " 0.01300494372844696,\n",
              " -0.026788625866174698,\n",
              " -0.0194944366812706,\n",
              " -0.020740417763590813,\n",
              " 0.013796661049127579,\n",
              " 0.021869590505957603,\n",
              " -0.016184795647859573,\n",
              " 0.0019403583137318492,\n",
              " 0.027593322098255157,\n",
              " 0.032447464764118195,\n",
              " -0.013316439464688301,\n",
              " -0.008598578162491322,\n",
              " -0.019533373415470123,\n",
              " -0.004377163015305996,\n",
              " -0.02761928178369999,\n",
              " -0.016067983582615852,\n",
              " 0.018118662759661674,\n",
              " -0.003355067688971758,\n",
              " 0.013277501799166203,\n",
              " -0.01014956645667553,\n",
              " -0.007865265011787415,\n",
              " 0.006148794200271368,\n",
              " 0.005191594362258911,\n",
              " -0.0031571381259709597,\n",
              " -0.004588071256875992,\n",
              " -0.010720642283558846,\n",
              " -0.014614337123930454,\n",
              " 0.01724907197058201,\n",
              " -0.012180778197944164,\n",
              " -0.01685970276594162,\n",
              " -0.011797897517681122,\n",
              " 0.003355067688971758,\n",
              " 0.0026168879121541977,\n",
              " -0.006671198643743992,\n",
              " 0.020766377449035645,\n",
              " 0.0005292992573231459,\n",
              " 0.013472186401486397,\n",
              " -0.03270704299211502,\n",
              " -0.004802224691957235,\n",
              " -0.01432880014181137,\n",
              " -0.010779047384858131,\n",
              " 0.021363409236073494,\n",
              " -0.013199628330767155,\n",
              " 0.013731766492128372,\n",
              " 0.00031149564892984927,\n",
              " -0.012966006062924862,\n",
              " -0.027800986543297768,\n",
              " 0.0022242735140025616,\n",
              " 0.0019338688580319285,\n",
              " 0.024024102836847305,\n",
              " -0.0005682362243533134,\n",
              " -0.008416872471570969,\n",
              " 0.009630407206714153,\n",
              " 0.03338195011019707,\n",
              " 0.023076636716723442,\n",
              " 0.02293386682868004,\n",
              " -0.0014982615830376744,\n",
              " -0.013939430005848408,\n",
              " -0.004828182514756918,\n",
              " -0.0261915922164917,\n",
              " -0.026438193395733833,\n",
              " -0.01959826797246933,\n",
              " -0.005895704030990601,\n",
              " 0.036808401346206665,\n",
              " -0.0018641067435964942,\n",
              " -0.008773794397711754,\n",
              " -0.011642149649560452,\n",
              " 0.005126699339598417,\n",
              " -0.02630840428173542,\n",
              " 0.006852904334664345,\n",
              " -0.00955253280699253,\n",
              " 0.014847959391772747,\n",
              " 0.044336214661598206,\n",
              " -0.023491963744163513,\n",
              " -0.016093941405415535,\n",
              " 0.026139676570892334,\n",
              " -0.00837793480604887,\n",
              " -0.007956118322908878,\n",
              " 0.003575710579752922,\n",
              " 0.006421353202313185,\n",
              " 0.0017180931754410267,\n",
              " -0.024037081748247147,\n",
              " 0.017443755641579628,\n",
              " 0.010370208881795406,\n",
              " -0.02691841498017311,\n",
              " -0.016626080498099327,\n",
              " 0.029384423047304153,\n",
              " 0.006453800480812788,\n",
              " 0.0013660382246598601,\n",
              " 0.024244744330644608,\n",
              " -0.002600664272904396,\n",
              " 0.004020240623503923,\n",
              " -0.04794437065720558,\n",
              " -0.010642767883837223,\n",
              " 0.0008760815253481269,\n",
              " -0.011032138019800186,\n",
              " 0.009013905189931393,\n",
              " -0.028553767129778862,\n",
              " -0.027385659515857697,\n",
              " -0.006852904334664345,\n",
              " 0.0009288086439482868,\n",
              " -0.004081890918314457,\n",
              " -0.02144128456711769,\n",
              " 0.010538936592638493,\n",
              " -0.009338379837572575,\n",
              " -0.009805623441934586,\n",
              " -0.02722991071641445,\n",
              " -0.00530840503051877,\n",
              " -0.020377006381750107,\n",
              " -0.008961989544332027,\n",
              " 0.008462298661470413,\n",
              " -0.008300061337649822,\n",
              " 0.014004325494170189,\n",
              " 0.0019874072168022394,\n",
              " -0.0006144738290458918,\n",
              " -0.023115573450922966,\n",
              " -0.016288626939058304,\n",
              " 0.0006976204458624125,\n",
              " 0.013822619803249836,\n",
              " 0.006664709188044071,\n",
              " -0.003945611417293549,\n",
              " -0.012907600961625576,\n",
              " 0.013069838285446167,\n",
              " -0.0033745362889021635,\n",
              " 0.0034361863508820534,\n",
              " -0.013381334021687508,\n",
              " 0.0035692208912223577,\n",
              " -0.019416561350226402,\n",
              " 0.030526572838425636,\n",
              " -0.030422741547226906,\n",
              " 0.021661926060914993,\n",
              " -0.028553767129778862,\n",
              " -0.03805438429117203,\n",
              " -0.0019030437106266618,\n",
              " 0.011856303550302982,\n",
              " -0.0015761355170980096,\n",
              " -0.013485166244208813,\n",
              " -0.004773021675646305,\n",
              " 0.013316439464688301,\n",
              " -0.03371940553188324,\n",
              " 0.0039553456008434296,\n",
              " -0.005201328545808792,\n",
              " -0.028787389397621155,\n",
              " -8.69490613695234e-05,\n",
              " 0.005567984655499458,\n",
              " 0.0068139671348035336,\n",
              " -0.019325708970427513,\n",
              " 0.025062421336770058,\n",
              " 0.2442125827074051,\n",
              " -0.017015449702739716,\n",
              " 0.004591315984725952,\n",
              " 0.04090976342558861,\n",
              " 0.0050520701333880424,\n",
              " 0.009935413487255573,\n",
              " 0.025854138657450676,\n",
              " -0.015133497305214405,\n",
              " -0.01724907197058201,\n",
              " 0.017132259905338287,\n",
              " -0.007722496520727873,\n",
              " 0.011616191826760769,\n",
              " 0.01839122176170349,\n",
              " -0.0028651109896600246,\n",
              " -0.02273918315768242,\n",
              " -0.036912232637405396,\n",
              " -0.018832508474588394,\n",
              " -0.03673052787780762,\n",
              " -0.04906056448817253,\n",
              " -0.017911000177264214,\n",
              " 0.012440357357263565,\n",
              " -0.010233930312097073,\n",
              " 0.006616037804633379,\n",
              " -0.029592087492346764,\n",
              " 0.002491965191438794,\n",
              " -0.015808403491973877,\n",
              " 0.00041066319681704044,\n",
              " -0.013446228578686714,\n",
              " 0.006762051489204168,\n",
              " 0.02337515354156494,\n",
              " -0.006645240355283022,\n",
              " -0.007229295093566179,\n",
              " 0.006885351613163948,\n",
              " -0.02356983721256256,\n",
              " -0.016677996143698692,\n",
              " -0.0039813038893043995,\n",
              " -0.000823354406747967,\n",
              " -0.007599195931106806,\n",
              " 0.019870826974511147,\n",
              " -0.010487020015716553,\n",
              " 0.0016296738758683205,\n",
              " 0.0031376697588711977,\n",
              " -0.003053306369110942,\n",
              " -0.0036665634252130985,\n",
              " 0.005094251595437527,\n",
              " 0.01726205088198185,\n",
              " ...]"
            ]
          },
          "execution_count": 144,
          "metadata": {},
          "output_type": "execute_result"
        }
      ],
      "source": [
        "clean_user_embedding = user_embedding.data[0].embedding\n",
        "clean_user_embedding"
      ]
    },
    {
      "cell_type": "code",
      "execution_count": 145,
      "metadata": {},
      "outputs": [
        {
          "data": {
            "text/plain": [
              "{'matches': [{'id': '1',\n",
              "              'metadata': {'overview': 'When siblings Judy and Peter discover '\n",
              "                                       'an enchanted board game that opens the '\n",
              "                                       'door to a magical world, they '\n",
              "                                       'unwittingly invite Alan -- an adult '\n",
              "                                       \"who's been trapped inside the game for \"\n",
              "                                       '26 years -- into their living room. '\n",
              "                                       \"Alan's only hope for freedom is to \"\n",
              "                                       'finish the game, which proves risky as '\n",
              "                                       'all three find themselves running from '\n",
              "                                       'giant rhinoceroses, evil monkeys and '\n",
              "                                       'other terrifying creatures.',\n",
              "                           'title': 'Jumanji'},\n",
              "              'score': 0.824134767,\n",
              "              'values': []},\n",
              "             {'id': '2',\n",
              "              'metadata': {'overview': 'A family wedding reignites the ancient '\n",
              "                                       'feud between next-door neighbors and '\n",
              "                                       'fishing buddies John and Max. '\n",
              "                                       'Meanwhile, a sultry Italian divorcée '\n",
              "                                       'opens a restaurant at the local bait '\n",
              "                                       'shop, alarming the locals who worry '\n",
              "                                       \"she'll scare the fish away. But she's \"\n",
              "                                       'less interested in seafood than she is '\n",
              "                                       'in cooking up a hot time with Max.',\n",
              "                           'title': 'Grumpier Old Men'},\n",
              "              'score': 0.824134767,\n",
              "              'values': []},\n",
              "             {'id': '0',\n",
              "              'metadata': {'overview': \"Led by Woody, Andy's toys live happily \"\n",
              "                                       \"in his room until Andy's birthday \"\n",
              "                                       'brings Buzz Lightyear onto the scene. '\n",
              "                                       \"Afraid of losing his place in Andy's \"\n",
              "                                       'heart, Woody plots against Buzz. But '\n",
              "                                       'when circumstances separate Buzz and '\n",
              "                                       'Woody from their owner, the duo '\n",
              "                                       'eventually learns to put aside their '\n",
              "                                       'differences.',\n",
              "                           'title': 'Toy Story'},\n",
              "              'score': 0.824134767,\n",
              "              'values': []}],\n",
              " 'namespace': '',\n",
              " 'usage': {'read_units': 6}}"
            ]
          },
          "execution_count": 145,
          "metadata": {},
          "output_type": "execute_result"
        }
      ],
      "source": [
        "# Getting the top 3 results based on similarites between the vector informed and the vectors in the pinecode index\n",
        "matches = index.query(\n",
        "    vector=clean_user_embedding,\n",
        "    top_k=3,\n",
        "    include_metadata=True\n",
        ")\n",
        "matches"
      ]
    },
    {
      "cell_type": "code",
      "execution_count": 157,
      "metadata": {},
      "outputs": [
        {
          "name": "stdout",
          "output_type": "stream",
          "text": [
            "Jumanji\n",
            "When siblings Judy and Peter discover an enchanted board game that opens the door to a magical world, they unwittingly invite Alan -- an adult who's been trapped inside the game for 26 years -- into their living room. Alan's only hope for freedom is to finish the game, which proves risky as all three find themselves running from giant rhinoceroses, evil monkeys and other terrifying creatures.\n",
            "\n",
            "\n",
            "Grumpier Old Men\n",
            "A family wedding reignites the ancient feud between next-door neighbors and fishing buddies John and Max. Meanwhile, a sultry Italian divorcée opens a restaurant at the local bait shop, alarming the locals who worry she'll scare the fish away. But she's less interested in seafood than she is in cooking up a hot time with Max.\n",
            "\n",
            "\n",
            "Toy Story\n",
            "Led by Woody, Andy's toys live happily in his room until Andy's birthday brings Buzz Lightyear onto the scene. Afraid of losing his place in Andy's heart, Woody plots against Buzz. But when circumstances separate Buzz and Woody from their owner, the duo eventually learns to put aside their differences.\n",
            "\n",
            "\n"
          ]
        }
      ],
      "source": [
        "for match in matches[\"matches\"]:\n",
        "    print(match[\"metadata\"][\"title\"])\n",
        "    print(match[\"metadata\"][\"overview\"])\n",
        "    print(\"\\n\")"
      ]
    },
    {
      "cell_type": "markdown",
      "metadata": {
        "id": "o0vhluPg68ZD"
      },
      "source": [
        "## Searching the most similar movie"
      ]
    },
    {
      "cell_type": "code",
      "execution_count": null,
      "metadata": {
        "id": "rKGJ6wie68OP"
      },
      "outputs": [],
      "source": []
    },
    {
      "cell_type": "code",
      "execution_count": null,
      "metadata": {
        "id": "6mGkqGVb7Jro"
      },
      "outputs": [],
      "source": []
    },
    {
      "cell_type": "code",
      "execution_count": null,
      "metadata": {
        "id": "sHjuMe_fynYc"
      },
      "outputs": [],
      "source": []
    },
    {
      "cell_type": "code",
      "execution_count": null,
      "metadata": {
        "id": "o1yAqGvWyoh6"
      },
      "outputs": [],
      "source": []
    }
  ],
  "metadata": {
    "colab": {
      "include_colab_link": true,
      "provenance": []
    },
    "kernelspec": {
      "display_name": "Python 3",
      "name": "python3"
    },
    "language_info": {
      "codemirror_mode": {
        "name": "ipython",
        "version": 3
      },
      "file_extension": ".py",
      "mimetype": "text/x-python",
      "name": "python",
      "nbconvert_exporter": "python",
      "pygments_lexer": "ipython3",
      "version": "3.11.9"
    }
  },
  "nbformat": 4,
  "nbformat_minor": 0
}
=======
      ],
      "metadata": {
        "id": "gdGX-w1CVxGx"
      }
    },
    {
      "cell_type": "code",
      "source": [
        "# !pip install pinecone-client"
      ],
      "metadata": {
        "id": "CigMCuH_2-6P"
      },
      "execution_count": null,
      "outputs": []
    },
    {
      "cell_type": "code",
      "source": [
        "# import pinecone"
      ],
      "metadata": {
        "id": "SFhM14-NVUqJ"
      },
      "execution_count": null,
      "outputs": []
    },
    {
      "cell_type": "code",
      "source": [],
      "metadata": {
        "id": "oZB3R8y8V_jg"
      },
      "execution_count": null,
      "outputs": []
    },
    {
      "cell_type": "markdown",
      "source": [
        "## Searching the most similar movie"
      ],
      "metadata": {
        "id": "o0vhluPg68ZD"
      }
    },
    {
      "cell_type": "code",
      "source": [],
      "metadata": {
        "id": "rKGJ6wie68OP"
      },
      "execution_count": null,
      "outputs": []
    },
    {
      "cell_type": "code",
      "source": [],
      "metadata": {
        "id": "6mGkqGVb7Jro"
      },
      "execution_count": null,
      "outputs": []
    },
    {
      "cell_type": "code",
      "source": [],
      "metadata": {
        "id": "sHjuMe_fynYc"
      },
      "execution_count": null,
      "outputs": []
    },
    {
      "cell_type": "code",
      "source": [],
      "metadata": {
        "id": "o1yAqGvWyoh6"
      },
      "execution_count": null,
      "outputs": []
    }
  ]
}
>>>>>>> 5ef7e11 (Created using Colab)
