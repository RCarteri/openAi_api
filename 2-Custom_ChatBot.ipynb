{
  "cells": [
    {
      "cell_type": "markdown",
      "metadata": {
        "colab_type": "text",
        "id": "view-in-github"
      },
      "source": [
        "<a href=\"https://colab.research.google.com/github/RCarteri/openAi_api/blob/main/2-Custom_ChatBot.ipynb\" target=\"_parent\"><img src=\"https://colab.research.google.com/assets/colab-badge.svg\" alt=\"Open In Colab\"/></a>"
      ]
    },
    {
      "cell_type": "markdown",
      "metadata": {
        "id": "vUehOJlORE-j"
      },
      "source": [
        "# Project 2: Building a Chatbot with OpenAI's ChatCompletion API\n",
        "\n",
        "In this exciting section of our course, we'll be turning our attention to the creation of a custom chatbot using OpenAI's ChatCompletion API. This project will showcase the capabilities of the OpenAI language model in understanding and responding to user input in a conversational manner. You'll learn how to harness the power of advanced AI to create a chatbot that can converse with users on a wide range of topics, providing responses that are both relevant and contextually appropriate.\n",
        "\n",
        "## What You Will Learn\n",
        "\n",
        "- **ChatCompletion API Fundamentals**: Discover the features of the ChatCompletion API and how it can be utilized to create responsive and intelligent chatbots.\n",
        "- **Conversation Handling**: Understand the intricacies of managing a conversation flow and maintaining context within a chat session.\n",
        "\n",
        "## Preparation\n",
        "\n",
        "Before jumping in, please ensure you have:\n",
        "\n",
        "- A Google Colab account ready for use.\n",
        "- Intermediate proficiency in Python programming.\n",
        "- An active OpenAI API key (sign up at [OpenAI](https://platform.openai.com/account/api-keys) if you haven't already).\n",
        "\n",
        "## Time to Create\n",
        "\n",
        "Let's build chatbots! By the end of this project, you'll have a fully functional chatbot ready to engage with users, powered by ChatCompletion API from OpenAI!\n",
        "\n"
      ]
    },
    {
      "cell_type": "markdown",
      "metadata": {
        "id": "NDlbXftjSHdL"
      },
      "source": [
        "# 2. Libraries import"
      ]
    },
    {
      "cell_type": "code",
      "execution_count": null,
      "metadata": {
        "colab": {
          "base_uri": "https://localhost:8080/"
        },
        "id": "KTBw517ySLF2",
        "outputId": "b31d6e96-82d3-4c4c-e264-11b5a6128914"
      },
      "outputs": [],
      "source": [
        "!pip install openai\n",
        "!pip install python-dotenv"
      ]
    },
    {
      "cell_type": "code",
      "execution_count": 7,
      "metadata": {
        "id": "lYFNyycCQ2p-"
      },
      "outputs": [],
      "source": [
        "import os\n",
        "import openai\n",
        "\n",
        "from dotenv import load_dotenv\n",
        "from openai import OpenAI"
      ]
    },
    {
      "cell_type": "markdown",
      "metadata": {
        "id": "TwaQS_nXSQxf"
      },
      "source": [
        "# 3. Sending a first ChatMessage to ChatGPT 3.5 or 4 via  OpenAI API\n",
        "\n",
        "\n",
        "### 3.1 Setting up API Key"
      ]
    },
    {
      "cell_type": "code",
      "execution_count": 8,
      "metadata": {
        "id": "btc16h6ySPFA"
      },
      "outputs": [],
      "source": [
        "load_dotenv()\n",
        "os.getenv('OPENAI_API_KEY')\n",
        "client = OpenAI()"
      ]
    },
    {
      "cell_type": "markdown",
      "metadata": {
        "id": "Uhi3pSl0lCW1"
      },
      "source": [
        "## 3.2 Sending the requests"
      ]
    },
    {
      "cell_type": "code",
      "execution_count": null,
      "metadata": {
        "colab": {
          "base_uri": "https://localhost:8080/"
        },
        "id": "Ch6chVYoTRyq",
        "outputId": "22b9859e-652d-4ab0-a17a-ef012efff7b1"
      },
      "outputs": [
        {
          "data": {
            "text/plain": [
              "ChatCompletion(id='chatcmpl-8I0bqnFg6tugLmwI9tW8RP5zMA0oY', choices=[Choice(finish_reason='stop', index=0, message=ChatCompletionMessage(content=\"The Los Angeles Dodgers won the World Series in 2020 by defeating the Tampa Bay Rays. It was the Dodgers' first World Series title since 1988, and they clinched the championship in Game 6 of the series.\", role='assistant', function_call=None))], created=1699302938, model='gpt-4-1106-preview', object='chat.completion', usage=CompletionUsage(completion_tokens=47, prompt_tokens=27, total_tokens=74), system_fingerprint='fp_a24b4d720c')"
            ]
          },
          "execution_count": 12,
          "metadata": {},
          "output_type": "execute_result"
        }
      ],
      "source": [
        "client.chat.completions.create(\n",
        "    model=\"gpt-4-1106-preview\", # Newest model from openai releates November 2023\n",
        "    messages=[\n",
        "        {\"role\": \"system\", \"content\": \"You are a helpful assistant.\"},\n",
        "        {\"role\": \"user\", \"content\": \"Who won the world series in 2020?\"}\n",
        "    ],\n",
        "    temperature=0.9,\n",
        "    max_tokens=150,\n",
        ")"
      ]
    },
    {
      "cell_type": "markdown",
      "metadata": {
        "id": "9_OjVDWsUe4n"
      },
      "source": [
        "# 4. Building our custom chatbot with OpenAI API"
      ]
    },
    {
      "cell_type": "code",
      "execution_count": null,
      "metadata": {
        "colab": {
          "base_uri": "https://localhost:8080/"
        },
        "id": "XW3sF_EmTbtr",
        "outputId": "2b99fab3-fd99-4d3f-f925-5cd53ce59a70"
      },
      "outputs": [
        {
          "name": "stdout",
          "output_type": "stream",
          "text": [
            "You: hey there:)\n",
            "Assistant: Hello! How can I assist you today? 😊\n",
            "You: \n",
            "Assistant: Hello! It seems your message didn't come through. How can I assist you today? If you have a question or need information on a topic, feel free to ask!\n",
            "You: yeah my mistate\n",
            "Assistant: No problem! Everyone makes mistakes from time to time. If you have a question or need assistance with anything, feel free to ask. I'm here to help!\n",
            "You: quit\n"
          ]
        }
      ],
      "source": [
        "while True:\n",
        "    user_input = input(\"You: \")\n",
        "    if user_input == \"quit\":\n",
        "        break\n",
        "    chat_response = client.chat.completions.create(\n",
        "        model=\"gpt-4-1106-preview\",\n",
        "        messages=[\n",
        "            {\"role\": \"system\", \"content\": \"You are a helpful assistant.\"},\n",
        "            {\"role\": \"user\", \"content\": user_input}\n",
        "        ],\n",
        "        temperature=0.9,\n",
        "        max_tokens=150,\n",
        "    )\n",
        "    print(\"Assistant:\", chat_response.choices[0].message.content)\n"
      ]
    },
    {
      "cell_type": "markdown",
      "metadata": {
        "id": "UD-SX7Z-mw7k"
      },
      "source": [
        "## 4.1 Adding memory to our chatbot"
      ]
    },
    {
      "cell_type": "code",
      "execution_count": null,
      "metadata": {
        "colab": {
          "base_uri": "https://localhost:8080/"
        },
        "id": "msr1bpSNUsZ9",
        "outputId": "e41a4d4b-043f-42b3-abec-27cde21abbe1"
      },
      "outputs": [
        {
          "name": "stdout",
          "output_type": "stream",
          "text": [
            "You: Hey man, please remmeber my name is Luka\n",
            "Assistant: Sure, I'll remember that your name is Luka. How can I assist you today?\n",
            "You: i want to know about sky\n",
            "Assistant: The sky is the expanse of atmosphere above the Earth's surface. It appears blue during the daytime due to a phenomenon called Rayleigh scattering, where the Earth's atmosphere scatters sunlight in all directions and blue light is scattered more than other colors because it travels in shorter, smaller waves.\n",
            "\n",
            "At night, the sky showcases stars, planets, and other celestial bodies. The darkness allows us to observe objects from space more clearly, away from the interference of sunlight.\n",
            "\n",
            "The sky is also home to various atmospheric phenomena such as clouds, rainbows, and auroras. It serves as a backdrop to weather patterns and plays a crucial role in the Earth's climate system.\n",
            "\n",
            "Additionally, the sky has cultural and symbolic significance in different societies and religions. People often find\n",
            "You: what is my name? :)\n",
            "Assistant: Your name is Luka.\n",
            "You: good thanks!\n",
            "Assistant: You're welcome, Luka! If you have any more questions or need further assistance, feel free to ask.\n",
            "You: quit\n"
          ]
        }
      ],
      "source": [
        "messages = [{\"role\": \"system\", \"content\": \"You are a helpful assistant.\"}]\n",
        "\n",
        "while True:\n",
        "    user_input = input(\"You: \")\n",
        "    if user_input == \"quit\":\n",
        "        break\n",
        "\n",
        "    messages.append({\"role\": \"user\", \"content\": user_input})\n",
        "    chat_response = client.chat.completions.create(\n",
        "        model=\"gpt-3.5-turbo-0613\",\n",
        "        messages=messages,\n",
        "        temperature=0.9,\n",
        "        max_tokens=150,\n",
        "    )\n",
        "    messages.append({\"role\": \"assistant\", \"content\": chat_response.choices[0].message.content})\n",
        "    print(\"Assistant:\", chat_response.choices[0].message.content)"
      ]
    },
    {
      "cell_type": "markdown",
      "metadata": {
        "id": "gdGX-w1CVxGx"
      },
      "source": [
        "### 4.2 Getting chatbot to answer based on our document/text"
      ]
    },
    {
      "cell_type": "code",
      "execution_count": null,
      "metadata": {
        "id": "jS6Jo3Ubn1C8"
      },
      "outputs": [],
      "source": [
        "# Document URL: https://info.undp.org/erecruit/documents/FAQ.pdf\n",
        "dataset=\"\"\"Document content:\n",
        "Question: What is UNDP’s eRecruit system? Answer: UNDP’s eRecruit system is an online system that allows applicants to create a personal profile that can be updated regularly in order to submit applications for more than one advertised UNDP job posting.\n",
        "Question: How do I access UNDP’s eRecruit system? Answer: UNDP’s eRecruit system can be accessed through the following link: https://undpcareers.partneragencies.org/erecruit.html\n",
        "Question: What is process for applying for a job using UNDP’s eRecruit system? Answer: Application Process Application Process\n",
        "Question: Do I have to apply on-line using UNDP’s eRecruit system? Answer: All applications must be submitted online using UNDP’s eRecruit system. Offline paper applications or application sent via e-mail will not be accepted.\n",
        "Question: What browsers are compatible with UNDP’s eRecruit system?Answer: UNDP’s eRecruit system was optimised for Google Chrome, Internet Explorer 6 and above. The usage of Internet Explorer 9 is required in compatibility view mode. We suggest that you use one of these browsers to make sure your application is submitted successfully.\n",
        "Question: I am having problems logging into my profile. The browser is not responding. What should I do? Answer: If you are having problems logging in to your UNDP eRecruit profile in order to apply for a job opening this could stem from a number of reasons, some of which - such as internet connectivity - are outside of UNDP’s control. However, we suggest that you follow these instructions in order to address these types of issues: • Check that you are using the recommended browsers (and versions). • Clear your cache/browser history. You can find information about how to clear your browser history at http://www.refreshyourcache.com/en/home. Please make sure that you are aware of the consequences when clearing the cache in your browser before taking this action.\n",
        "Question: What if I need help using UNDP’s eRecruit system? Answer: For general inquiries or assistance in using UNDP’s eRecruit system, please contact the HelpDesk at https://info.undp.org/sas/erecruit/Assets/HelpDesk.aspx.\n",
        "Question: Why do I need to register? Answer: It is required that all applicants must first register in UNDP’s eRecruit system. After your registration is complete, a personal account is created so that you may complete your personal information and apply to advertised job postings.\n",
        "Question: When registering, what should I use as my username? Answer: It is suggested that you should use a valid e-mail address as your username when registering in the UNDP’s eRecruit system.\n",
        "Question: What password format is accepted? Answer: UNDP encourages the use of strong passwords. Passwords should be a minimum of 8 characters in length and contain a combination of letters and numbers.\n",
        "Question: How can I change my password? Answer: Select the ‘Change Password’ option from the ‘Personal Information’ link after you have logged in to the system. Click on the ‘Forgot User Name or Password?’ link and follow the instructions to retrieve your forgotten password.\n",
        "Question: I have forgotten my password. What should I do? Answer: If you have forgotten your password, click on the link Forgot User ID or Password and complete one of the two options.\n",
        "Question: Will my data be secure? Answer: UNDP’s eRecruit data is stored on a private secure database and UNDP is the owner of the data. The system meets the UNDP's stringent security requirements.\n",
        "Question: Do I have to complete all of the information in each of the sections? Answer: All fields marked with an asterisk (*) are required information and must be completed for each section.\n",
        "Question: Do I need to complete all of the information in one session? Answer: You can save your application at any time during the application process and continue at a later time. When completing a section, we encourage that you use the save button regularly in order to ensure that your information is not lost.\n",
        "Question: How do I select dates using the calendar feature? Answer: Dates can be selected in two ways. You can either A) type the date directly in the field using the dd/mm/yyyy format or B) select the date by clicking on the calendar icon and choose the year month and day.\n",
        "Question: What should I do if my relevant information is not included in one of the drop-down options? Answer: You will be required to choose from the available drop-down options. Please choose the option that is the closest to your personal information, skills and experience.\n",
        "Question: How do I use the Look-up feature? Answer: To use the Look-up feature, click on the magnifying glass icon. After, type in either the full or partial value in the given field and click the button Look Up. Lastly, select the appropriate value from the search result.\n",
        "Question: Is there a spell check feature available? Answer: For various text description fields in each section, a spell click feature is available. To use the spell check feature, click on the dictionary icon to the left of the text field where available.\n",
        "Question\"  Can I apply to a job posting even if I do not meet the minimum requirements? Answer: You will not be able to apply to a job posting if your relevant education, work experience, language skills and possible other qualifications do not meet the minimum requirements specified in the job posting.\n",
        "Question:  Can I review my application before submission? Answer: Once you have clicked on the button submit my application, you will be able to review your full application details before the final submission. If you wish to modify any of the details displayed on the Application Preview page, you may do so by returning to the previous page.\n",
        "Question: How do submit my application? Answer: You will first need to complete all of the required information in the personal profile sections and answer the relevant job-related questions. After, you will be able to submit your application by clicking the button submit my application.\n",
        "Question: The deadline for submitting an application has expired. Can I still apply? Answer: It is essential to submit your application in the eRecruit system before midnight CET time of the job posting’s closing date. Regrettably, we are unable to accept late applications.\n",
        "Question: After I submit my application, will I receive a confirmation? Answer: After you have submitted your application online, you will receive an automated email confirming receipt of your application.\n",
        "Question: Can I revise or amend my application once it has been submitted? Answer: You are able to revise or amend any sections of your personal profile before the job posting’s closing date. Please note that the closing date of all UNDP job postings are effective midnight, CET time.\n",
        "Question: What if I want to submit additional documents to my application? Answer: UNDP does not require that you attach additional documents to your application. However, at any time during the recruitment process, you may be requested by a UNDP Recruitment Specialist to submit additional validating documents to your personal profile in support of your application. If you receive a request to upload specific documents, first navigate to the Careers Home page \u0001 My Career Tools page. Click on Applicant Attachments and add the relevant documents in the attachments section.\n",
        "Question: Can I apply for more than one job posting at the same time? Answer: You may apply to multiple UNDP job postings given that you meet the minimum requirements for each.\n",
        "Question: Is there a fee for submitting my application? Answer: UNDP does not charge any fee at any stage of the recruitment process whether at the application, interview, processing or training stage. UNDP does not require or need to know any information relating to the bank account details of applicants. Any such request should be rejected as these schemes are fraudulent.\n",
        "Question: How can I check on the status of my application? Answer: At all times, you may view the status of the vacancies you have applied. To do so, navigate to the Careers Home page \u0001 My Career Tools \u0001 Applications page. On the My Applications page, you will be able to view the Recruiting Status for each of your applications.\n",
        "\"\"\""
      ]
    },
    {
      "cell_type": "code",
      "execution_count": null,
      "metadata": {
        "colab": {
          "base_uri": "https://localhost:8080/"
        },
        "id": "SFhM14-NVUqJ",
        "outputId": "5bba95c0-667b-4f15-fe2b-dc729fe953c6"
      },
      "outputs": [
        {
          "name": "stdout",
          "output_type": "stream",
          "text": [
            "You: what is UNDP\n",
            "Assistant: UNDP stands for the United Nations Development Programme. It is a global development organization that works in over 170 countries and territories to eradicate poverty, reduce inequalities, and promote sustainable development. UNDP focuses on areas such as poverty reduction, democratic governance, climate change, and crisis prevention and recovery.\n",
            "You: application \n",
            "Assistant: Are you referring to the application process for a job or program? Please provide more specific information so that I can assist you better.\n",
            "You: ye\n",
            "Assistant: If you are referring to the application process for a job or program with UNDP, here is some information:\n",
            "\n",
            "UNDP’s eRecruit system is an online platform that allows applicants to create a personal profile and submit applications for advertised job postings. All applications must be submitted online using UNDP’s eRecruit system. Offline paper applications or applications sent via email will not be accepted.\n",
            "\n",
            "To access UNDP’s eRecruit system, you can visit the following link: https://undpcareers.partneragencies.org/erecruit.html\n",
            "\n",
            "When applying, it is important to meet the minimum requirements specified in the job posting. You can review and revise your application before the job posting's closing date. After submitting your application, you will receive an automated email confirming receipt.\n",
            "\n",
            "If you need assistance or have specific questions about using UNDP’s eRecruit system, you can contact the HelpDesk at https://info.undp.org/sas/erecruit/Assets/HelpDesk.aspx.\n",
            "\n",
            "Please note that the specific application process may vary depending on the job or program you are applying for.\n",
            "You: quit\n"
          ]
        }
      ],
      "source": [
        "messages = [{\"role\": \"system\", \"content\": \"\"\"I want you to act as a support agent. Your name is \"My Super Assistant\". You will provide me with answers from the given info. If the answer is not included, say exactly \"Ooops! I don't know that.\" and stop after that. Refuse to answer any question not about the info. Never break character.\"\"\"}]\n",
        "messages.append({\"role\": \"assistant\", \"content\": dataset})\n",
        "while True:\n",
        "    user_input = input(\"You: \")\n",
        "    if user_input == \"quit\":\n",
        "        break\n",
        "\n",
        "    messages.append({\"role\": \"user\", \"content\": user_input})\n",
        "    chat_response = client.chat.completions.create(\n",
        "        model=\"gpt-3.5-turbo-0613\",\n",
        "        messages=messages,\n",
        "        temperature=0.0,\n",
        "        max_tokens=300,\n",
        "    )\n",
        "    messages.append({\"role\": \"assistant\", \"content\": chat_response.choices[0].message.content})\n",
        "    print(\"Assistant:\", chat_response.choices[0].message.content)"
      ]
    },
    {
      "cell_type": "code",
      "execution_count": null,
      "metadata": {
        "id": "oZB3R8y8V_jg"
      },
      "outputs": [],
      "source": []
    }
  ],
  "metadata": {
    "colab": {
      "include_colab_link": true,
      "provenance": []
    },
    "kernelspec": {
      "display_name": "Python 3",
      "name": "python3"
    },
    "language_info": {
      "codemirror_mode": {
        "name": "ipython",
        "version": 3
      },
      "file_extension": ".py",
      "mimetype": "text/x-python",
      "name": "python",
      "nbconvert_exporter": "python",
      "pygments_lexer": "ipython3",
      "version": "3.11.9"
    }
  },
  "nbformat": 4,
  "nbformat_minor": 0
}
